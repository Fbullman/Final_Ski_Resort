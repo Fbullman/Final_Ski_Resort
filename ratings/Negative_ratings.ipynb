{
  "nbformat": 4,
  "nbformat_minor": 0,
  "metadata": {
    "colab": {
      "name": "Negative_ratings.ipynb",
      "provenance": [],
      "collapsed_sections": []
    },
    "kernelspec": {
      "name": "python3",
      "display_name": "Python 3"
    },
    "language_info": {
      "name": "python"
    }
  },
  "cells": [
    {
      "cell_type": "code",
      "source": [
        "import pandas as pd"
      ],
      "metadata": {
        "id": "Upho4xuYkmiE"
      },
      "execution_count": 3,
      "outputs": []
    },
    {
      "cell_type": "code",
      "source": [
        "url = 'https://raw.githubusercontent.com/jstawarz/Final_Ski_Resort/main/Reviews/negative_reviews.csv'"
      ],
      "metadata": {
        "id": "LXOTHNydy-4_"
      },
      "execution_count": 1,
      "outputs": []
    },
    {
      "cell_type": "code",
      "source": [
        "negative_df = pd.read_csv(url, encoding = 'unicode_escape', engine ='python')"
      ],
      "metadata": {
        "id": "199Cv2QbkhDP"
      },
      "execution_count": 5,
      "outputs": []
    },
    {
      "cell_type": "code",
      "source": [
        "negative_df.head()"
      ],
      "metadata": {
        "id": "N18wfJHgk0QN",
        "colab": {
          "base_uri": "https://localhost:8080/",
          "height": 206
        },
        "outputId": "49704afc-4d50-4604-921d-67ec3fc7ba7a"
      },
      "execution_count": 6,
      "outputs": [
        {
          "output_type": "execute_result",
          "data": {
            "text/html": [
              "\n",
              "  <div id=\"df-b55addbe-0f3a-4766-b397-d0494eb6a2a6\">\n",
              "    <div class=\"colab-df-container\">\n",
              "      <div>\n",
              "<style scoped>\n",
              "    .dataframe tbody tr th:only-of-type {\n",
              "        vertical-align: middle;\n",
              "    }\n",
              "\n",
              "    .dataframe tbody tr th {\n",
              "        vertical-align: top;\n",
              "    }\n",
              "\n",
              "    .dataframe thead th {\n",
              "        text-align: right;\n",
              "    }\n",
              "</style>\n",
              "<table border=\"1\" class=\"dataframe\">\n",
              "  <thead>\n",
              "    <tr style=\"text-align: right;\">\n",
              "      <th></th>\n",
              "      <th>Review Site</th>\n",
              "      <th>Ski Area</th>\n",
              "      <th>Review Date</th>\n",
              "      <th>class</th>\n",
              "      <th>Review Star Rating (out of 5)</th>\n",
              "      <th>Review Text</th>\n",
              "    </tr>\n",
              "  </thead>\n",
              "  <tbody>\n",
              "    <tr>\n",
              "      <th>0</th>\n",
              "      <td>Tripadvisor</td>\n",
              "      <td>Whitefish</td>\n",
              "      <td>17-Feb</td>\n",
              "      <td>negative</td>\n",
              "      <td>3.0</td>\n",
              "      <td>Champagne pow can't be beat! Definitely a loca...</td>\n",
              "    </tr>\n",
              "    <tr>\n",
              "      <th>1</th>\n",
              "      <td>Tripadvisor</td>\n",
              "      <td>Whitefish</td>\n",
              "      <td>17-Apr</td>\n",
              "      <td>negative</td>\n",
              "      <td>3.0</td>\n",
              "      <td>We skied a couple of days here and thought it ...</td>\n",
              "    </tr>\n",
              "    <tr>\n",
              "      <th>2</th>\n",
              "      <td>Tripadvisor</td>\n",
              "      <td>Whitefish</td>\n",
              "      <td>17-Apr</td>\n",
              "      <td>negative</td>\n",
              "      <td>3.0</td>\n",
              "      <td>The breadth of skiing opportunities is simply ...</td>\n",
              "    </tr>\n",
              "    <tr>\n",
              "      <th>3</th>\n",
              "      <td>Tripadvisor</td>\n",
              "      <td>Whitefish</td>\n",
              "      <td>17-Mar</td>\n",
              "      <td>negative</td>\n",
              "      <td>3.0</td>\n",
              "      <td>Our family loves Whitefish Mountain Resort (fo...</td>\n",
              "    </tr>\n",
              "    <tr>\n",
              "      <th>4</th>\n",
              "      <td>Tripadvisor</td>\n",
              "      <td>Whitefish</td>\n",
              "      <td>17-Jan</td>\n",
              "      <td>negative</td>\n",
              "      <td>3.0</td>\n",
              "      <td>Trying to get a break from the crowds and hust...</td>\n",
              "    </tr>\n",
              "  </tbody>\n",
              "</table>\n",
              "</div>\n",
              "      <button class=\"colab-df-convert\" onclick=\"convertToInteractive('df-b55addbe-0f3a-4766-b397-d0494eb6a2a6')\"\n",
              "              title=\"Convert this dataframe to an interactive table.\"\n",
              "              style=\"display:none;\">\n",
              "        \n",
              "  <svg xmlns=\"http://www.w3.org/2000/svg\" height=\"24px\"viewBox=\"0 0 24 24\"\n",
              "       width=\"24px\">\n",
              "    <path d=\"M0 0h24v24H0V0z\" fill=\"none\"/>\n",
              "    <path d=\"M18.56 5.44l.94 2.06.94-2.06 2.06-.94-2.06-.94-.94-2.06-.94 2.06-2.06.94zm-11 1L8.5 8.5l.94-2.06 2.06-.94-2.06-.94L8.5 2.5l-.94 2.06-2.06.94zm10 10l.94 2.06.94-2.06 2.06-.94-2.06-.94-.94-2.06-.94 2.06-2.06.94z\"/><path d=\"M17.41 7.96l-1.37-1.37c-.4-.4-.92-.59-1.43-.59-.52 0-1.04.2-1.43.59L10.3 9.45l-7.72 7.72c-.78.78-.78 2.05 0 2.83L4 21.41c.39.39.9.59 1.41.59.51 0 1.02-.2 1.41-.59l7.78-7.78 2.81-2.81c.8-.78.8-2.07 0-2.86zM5.41 20L4 18.59l7.72-7.72 1.47 1.35L5.41 20z\"/>\n",
              "  </svg>\n",
              "      </button>\n",
              "      \n",
              "  <style>\n",
              "    .colab-df-container {\n",
              "      display:flex;\n",
              "      flex-wrap:wrap;\n",
              "      gap: 12px;\n",
              "    }\n",
              "\n",
              "    .colab-df-convert {\n",
              "      background-color: #E8F0FE;\n",
              "      border: none;\n",
              "      border-radius: 50%;\n",
              "      cursor: pointer;\n",
              "      display: none;\n",
              "      fill: #1967D2;\n",
              "      height: 32px;\n",
              "      padding: 0 0 0 0;\n",
              "      width: 32px;\n",
              "    }\n",
              "\n",
              "    .colab-df-convert:hover {\n",
              "      background-color: #E2EBFA;\n",
              "      box-shadow: 0px 1px 2px rgba(60, 64, 67, 0.3), 0px 1px 3px 1px rgba(60, 64, 67, 0.15);\n",
              "      fill: #174EA6;\n",
              "    }\n",
              "\n",
              "    [theme=dark] .colab-df-convert {\n",
              "      background-color: #3B4455;\n",
              "      fill: #D2E3FC;\n",
              "    }\n",
              "\n",
              "    [theme=dark] .colab-df-convert:hover {\n",
              "      background-color: #434B5C;\n",
              "      box-shadow: 0px 1px 3px 1px rgba(0, 0, 0, 0.15);\n",
              "      filter: drop-shadow(0px 1px 2px rgba(0, 0, 0, 0.3));\n",
              "      fill: #FFFFFF;\n",
              "    }\n",
              "  </style>\n",
              "\n",
              "      <script>\n",
              "        const buttonEl =\n",
              "          document.querySelector('#df-b55addbe-0f3a-4766-b397-d0494eb6a2a6 button.colab-df-convert');\n",
              "        buttonEl.style.display =\n",
              "          google.colab.kernel.accessAllowed ? 'block' : 'none';\n",
              "\n",
              "        async function convertToInteractive(key) {\n",
              "          const element = document.querySelector('#df-b55addbe-0f3a-4766-b397-d0494eb6a2a6');\n",
              "          const dataTable =\n",
              "            await google.colab.kernel.invokeFunction('convertToInteractive',\n",
              "                                                     [key], {});\n",
              "          if (!dataTable) return;\n",
              "\n",
              "          const docLinkHtml = 'Like what you see? Visit the ' +\n",
              "            '<a target=\"_blank\" href=https://colab.research.google.com/notebooks/data_table.ipynb>data table notebook</a>'\n",
              "            + ' to learn more about interactive tables.';\n",
              "          element.innerHTML = '';\n",
              "          dataTable['output_type'] = 'display_data';\n",
              "          await google.colab.output.renderOutput(dataTable, element);\n",
              "          const docLink = document.createElement('div');\n",
              "          docLink.innerHTML = docLinkHtml;\n",
              "          element.appendChild(docLink);\n",
              "        }\n",
              "      </script>\n",
              "    </div>\n",
              "  </div>\n",
              "  "
            ],
            "text/plain": [
              "   Review Site  ...                                        Review Text\n",
              "0  Tripadvisor  ...  Champagne pow can't be beat! Definitely a loca...\n",
              "1  Tripadvisor  ...  We skied a couple of days here and thought it ...\n",
              "2  Tripadvisor  ...  The breadth of skiing opportunities is simply ...\n",
              "3  Tripadvisor  ...  Our family loves Whitefish Mountain Resort (fo...\n",
              "4  Tripadvisor  ...  Trying to get a break from the crowds and hust...\n",
              "\n",
              "[5 rows x 6 columns]"
            ]
          },
          "metadata": {},
          "execution_count": 6
        }
      ]
    },
    {
      "cell_type": "code",
      "source": [
        "negative_text_df = negative_df['Review Text']\n",
        "negative_text_df"
      ],
      "metadata": {
        "id": "wQa-NLdplDIy",
        "colab": {
          "base_uri": "https://localhost:8080/"
        },
        "outputId": "88e6b2d8-1364-4c6c-e910-901e9b60e77e"
      },
      "execution_count": 7,
      "outputs": [
        {
          "output_type": "execute_result",
          "data": {
            "text/plain": [
              "0      Champagne pow can't be beat! Definitely a loca...\n",
              "1      We skied a couple of days here and thought it ...\n",
              "2      The breadth of skiing opportunities is simply ...\n",
              "3      Our family loves Whitefish Mountain Resort (fo...\n",
              "4      Trying to get a break from the crowds and hust...\n",
              "                             ...                        \n",
              "351    MUST have breakfast at The Red Lodge Cafe!  Th...\n",
              "352    Red Lodge has been a Family tradition since 19...\n",
              "353    The crowds are almost always thinned out by Wa...\n",
              "354    Showdown is probably one of the best. i've bee...\n",
              "355    Showdown is probably one of the best. i've bee...\n",
              "Name: Review Text, Length: 356, dtype: object"
            ]
          },
          "metadata": {},
          "execution_count": 7
        }
      ]
    },
    {
      "cell_type": "code",
      "source": [
        "!pip install -U pip setuptools wheel"
      ],
      "metadata": {
        "id": "HJI5ekB8lOzG",
        "colab": {
          "base_uri": "https://localhost:8080/",
          "height": 489
        },
        "outputId": "1225897c-c8a4-4340-f527-74da81214e35"
      },
      "execution_count": 8,
      "outputs": [
        {
          "output_type": "stream",
          "name": "stdout",
          "text": [
            "Requirement already satisfied: pip in /usr/local/lib/python3.7/dist-packages (21.1.3)\n",
            "Collecting pip\n",
            "  Downloading pip-21.3.1-py3-none-any.whl (1.7 MB)\n",
            "\u001b[K     |████████████████████████████████| 1.7 MB 5.4 MB/s \n",
            "\u001b[?25hRequirement already satisfied: setuptools in /usr/local/lib/python3.7/dist-packages (57.4.0)\n",
            "Collecting setuptools\n",
            "  Downloading setuptools-60.5.0-py3-none-any.whl (958 kB)\n",
            "\u001b[K     |████████████████████████████████| 958 kB 43.8 MB/s \n",
            "\u001b[?25hRequirement already satisfied: wheel in /usr/local/lib/python3.7/dist-packages (0.37.1)\n",
            "Installing collected packages: setuptools, pip\n",
            "  Attempting uninstall: setuptools\n",
            "    Found existing installation: setuptools 57.4.0\n",
            "    Uninstalling setuptools-57.4.0:\n",
            "      Successfully uninstalled setuptools-57.4.0\n",
            "  Attempting uninstall: pip\n",
            "    Found existing installation: pip 21.1.3\n",
            "    Uninstalling pip-21.1.3:\n",
            "      Successfully uninstalled pip-21.1.3\n",
            "\u001b[31mERROR: pip's dependency resolver does not currently take into account all the packages that are installed. This behaviour is the source of the following dependency conflicts.\n",
            "datascience 0.10.6 requires folium==0.2.1, but you have folium 0.8.3 which is incompatible.\u001b[0m\n",
            "Successfully installed pip-21.3.1 setuptools-60.5.0\n"
          ]
        },
        {
          "output_type": "display_data",
          "data": {
            "application/vnd.colab-display-data+json": {
              "pip_warning": {
                "packages": [
                  "pkg_resources"
                ]
              }
            }
          },
          "metadata": {}
        }
      ]
    },
    {
      "cell_type": "code",
      "source": [
        "!pip install -U pip spacy"
      ],
      "metadata": {
        "id": "Y1YFIsaLlUcA",
        "colab": {
          "base_uri": "https://localhost:8080/"
        },
        "outputId": "dd7b5ef3-8b4f-48b2-c68b-1289bcb4dc65"
      },
      "execution_count": 9,
      "outputs": [
        {
          "output_type": "stream",
          "name": "stdout",
          "text": [
            "Requirement already satisfied: pip in /usr/local/lib/python3.7/dist-packages (21.3.1)\n",
            "Requirement already satisfied: spacy in /usr/local/lib/python3.7/dist-packages (2.2.4)\n",
            "Collecting spacy\n",
            "  Downloading spacy-3.2.1-cp37-cp37m-manylinux_2_17_x86_64.manylinux2014_x86_64.whl (6.0 MB)\n",
            "     |████████████████████████████████| 6.0 MB 4.1 MB/s            \n",
            "\u001b[?25hRequirement already satisfied: tqdm<5.0.0,>=4.38.0 in /usr/local/lib/python3.7/dist-packages (from spacy) (4.62.3)\n",
            "Requirement already satisfied: wasabi<1.1.0,>=0.8.1 in /usr/local/lib/python3.7/dist-packages (from spacy) (0.9.0)\n",
            "Requirement already satisfied: murmurhash<1.1.0,>=0.28.0 in /usr/local/lib/python3.7/dist-packages (from spacy) (1.0.6)\n",
            "Collecting typer<0.5.0,>=0.3.0\n",
            "  Downloading typer-0.4.0-py3-none-any.whl (27 kB)\n",
            "Collecting spacy-legacy<3.1.0,>=3.0.8\n",
            "  Downloading spacy_legacy-3.0.8-py2.py3-none-any.whl (14 kB)\n",
            "Collecting srsly<3.0.0,>=2.4.1\n",
            "  Downloading srsly-2.4.2-cp37-cp37m-manylinux_2_17_x86_64.manylinux2014_x86_64.whl (451 kB)\n",
            "     |████████████████████████████████| 451 kB 53.8 MB/s            \n",
            "\u001b[?25hCollecting langcodes<4.0.0,>=3.2.0\n",
            "  Downloading langcodes-3.3.0-py3-none-any.whl (181 kB)\n",
            "     |████████████████████████████████| 181 kB 54.3 MB/s            \n",
            "\u001b[?25hRequirement already satisfied: blis<0.8.0,>=0.4.0 in /usr/local/lib/python3.7/dist-packages (from spacy) (0.4.1)\n",
            "Requirement already satisfied: requests<3.0.0,>=2.13.0 in /usr/local/lib/python3.7/dist-packages (from spacy) (2.23.0)\n",
            "Collecting pydantic!=1.8,!=1.8.1,<1.9.0,>=1.7.4\n",
            "  Downloading pydantic-1.8.2-cp37-cp37m-manylinux2014_x86_64.whl (10.1 MB)\n",
            "     |████████████████████████████████| 10.1 MB 48.5 MB/s            \n",
            "\u001b[?25hRequirement already satisfied: numpy>=1.15.0 in /usr/local/lib/python3.7/dist-packages (from spacy) (1.19.5)\n",
            "Requirement already satisfied: setuptools in /usr/local/lib/python3.7/dist-packages (from spacy) (60.5.0)\n",
            "Collecting spacy-loggers<2.0.0,>=1.0.0\n",
            "  Downloading spacy_loggers-1.0.1-py3-none-any.whl (7.0 kB)\n",
            "Requirement already satisfied: packaging>=20.0 in /usr/local/lib/python3.7/dist-packages (from spacy) (21.3)\n",
            "Requirement already satisfied: preshed<3.1.0,>=3.0.2 in /usr/local/lib/python3.7/dist-packages (from spacy) (3.0.6)\n",
            "Requirement already satisfied: jinja2 in /usr/local/lib/python3.7/dist-packages (from spacy) (2.11.3)\n",
            "Requirement already satisfied: typing-extensions<4.0.0.0,>=3.7.4 in /usr/local/lib/python3.7/dist-packages (from spacy) (3.10.0.2)\n",
            "Collecting catalogue<2.1.0,>=2.0.6\n",
            "  Downloading catalogue-2.0.6-py3-none-any.whl (17 kB)\n",
            "Collecting pathy>=0.3.5\n",
            "  Downloading pathy-0.6.1-py3-none-any.whl (42 kB)\n",
            "     |████████████████████████████████| 42 kB 946 kB/s             \n",
            "\u001b[?25hRequirement already satisfied: cymem<2.1.0,>=2.0.2 in /usr/local/lib/python3.7/dist-packages (from spacy) (2.0.6)\n",
            "Collecting thinc<8.1.0,>=8.0.12\n",
            "  Downloading thinc-8.0.13-cp37-cp37m-manylinux_2_17_x86_64.manylinux2014_x86_64.whl (628 kB)\n",
            "     |████████████████████████████████| 628 kB 60.3 MB/s            \n",
            "\u001b[?25hRequirement already satisfied: zipp>=0.5 in /usr/local/lib/python3.7/dist-packages (from catalogue<2.1.0,>=2.0.6->spacy) (3.7.0)\n",
            "Requirement already satisfied: pyparsing!=3.0.5,>=2.0.2 in /usr/local/lib/python3.7/dist-packages (from packaging>=20.0->spacy) (3.0.6)\n",
            "Requirement already satisfied: smart-open<6.0.0,>=5.0.0 in /usr/local/lib/python3.7/dist-packages (from pathy>=0.3.5->spacy) (5.2.1)\n",
            "Requirement already satisfied: chardet<4,>=3.0.2 in /usr/local/lib/python3.7/dist-packages (from requests<3.0.0,>=2.13.0->spacy) (3.0.4)\n",
            "Requirement already satisfied: urllib3!=1.25.0,!=1.25.1,<1.26,>=1.21.1 in /usr/local/lib/python3.7/dist-packages (from requests<3.0.0,>=2.13.0->spacy) (1.24.3)\n",
            "Requirement already satisfied: certifi>=2017.4.17 in /usr/local/lib/python3.7/dist-packages (from requests<3.0.0,>=2.13.0->spacy) (2021.10.8)\n",
            "Requirement already satisfied: idna<3,>=2.5 in /usr/local/lib/python3.7/dist-packages (from requests<3.0.0,>=2.13.0->spacy) (2.10)\n",
            "Requirement already satisfied: click<9.0.0,>=7.1.1 in /usr/local/lib/python3.7/dist-packages (from typer<0.5.0,>=0.3.0->spacy) (7.1.2)\n",
            "Requirement already satisfied: MarkupSafe>=0.23 in /usr/local/lib/python3.7/dist-packages (from jinja2->spacy) (2.0.1)\n",
            "Installing collected packages: catalogue, typer, srsly, pydantic, thinc, spacy-loggers, spacy-legacy, pathy, langcodes, spacy\n",
            "  Attempting uninstall: catalogue\n",
            "    Found existing installation: catalogue 1.0.0\n",
            "    Uninstalling catalogue-1.0.0:\n",
            "      Successfully uninstalled catalogue-1.0.0\n",
            "  Attempting uninstall: srsly\n",
            "    Found existing installation: srsly 1.0.5\n",
            "    Uninstalling srsly-1.0.5:\n",
            "      Successfully uninstalled srsly-1.0.5\n",
            "  Attempting uninstall: thinc\n",
            "    Found existing installation: thinc 7.4.0\n",
            "    Uninstalling thinc-7.4.0:\n",
            "      Successfully uninstalled thinc-7.4.0\n",
            "  Attempting uninstall: spacy\n",
            "    Found existing installation: spacy 2.2.4\n",
            "    Uninstalling spacy-2.2.4:\n",
            "      Successfully uninstalled spacy-2.2.4\n",
            "Successfully installed catalogue-2.0.6 langcodes-3.3.0 pathy-0.6.1 pydantic-1.8.2 spacy-3.2.1 spacy-legacy-3.0.8 spacy-loggers-1.0.1 srsly-2.4.2 thinc-8.0.13 typer-0.4.0\n",
            "\u001b[33mWARNING: Running pip as the 'root' user can result in broken permissions and conflicting behaviour with the system package manager. It is recommended to use a virtual environment instead: https://pip.pypa.io/warnings/venv\u001b[0m\n"
          ]
        }
      ]
    },
    {
      "cell_type": "code",
      "source": [
        "!python -m spacy download en_core_web_sm"
      ],
      "metadata": {
        "id": "647xU2udlnk9",
        "colab": {
          "base_uri": "https://localhost:8080/"
        },
        "outputId": "b991720d-71e6-437b-f4d6-65d3383e93cd"
      },
      "execution_count": 10,
      "outputs": [
        {
          "output_type": "stream",
          "name": "stdout",
          "text": [
            "Collecting en-core-web-sm==3.2.0\n",
            "  Downloading https://github.com/explosion/spacy-models/releases/download/en_core_web_sm-3.2.0/en_core_web_sm-3.2.0-py3-none-any.whl (13.9 MB)\n",
            "     |████████████████████████████████| 13.9 MB 4.3 MB/s            \n",
            "\u001b[?25hRequirement already satisfied: spacy<3.3.0,>=3.2.0 in /usr/local/lib/python3.7/dist-packages (from en-core-web-sm==3.2.0) (3.2.1)\n",
            "Requirement already satisfied: pydantic!=1.8,!=1.8.1,<1.9.0,>=1.7.4 in /usr/local/lib/python3.7/dist-packages (from spacy<3.3.0,>=3.2.0->en-core-web-sm==3.2.0) (1.8.2)\n",
            "Requirement already satisfied: packaging>=20.0 in /usr/local/lib/python3.7/dist-packages (from spacy<3.3.0,>=3.2.0->en-core-web-sm==3.2.0) (21.3)\n",
            "Requirement already satisfied: requests<3.0.0,>=2.13.0 in /usr/local/lib/python3.7/dist-packages (from spacy<3.3.0,>=3.2.0->en-core-web-sm==3.2.0) (2.23.0)\n",
            "Requirement already satisfied: setuptools in /usr/local/lib/python3.7/dist-packages (from spacy<3.3.0,>=3.2.0->en-core-web-sm==3.2.0) (60.5.0)\n",
            "Requirement already satisfied: blis<0.8.0,>=0.4.0 in /usr/local/lib/python3.7/dist-packages (from spacy<3.3.0,>=3.2.0->en-core-web-sm==3.2.0) (0.4.1)\n",
            "Requirement already satisfied: wasabi<1.1.0,>=0.8.1 in /usr/local/lib/python3.7/dist-packages (from spacy<3.3.0,>=3.2.0->en-core-web-sm==3.2.0) (0.9.0)\n",
            "Requirement already satisfied: typing-extensions<4.0.0.0,>=3.7.4 in /usr/local/lib/python3.7/dist-packages (from spacy<3.3.0,>=3.2.0->en-core-web-sm==3.2.0) (3.10.0.2)\n",
            "Requirement already satisfied: tqdm<5.0.0,>=4.38.0 in /usr/local/lib/python3.7/dist-packages (from spacy<3.3.0,>=3.2.0->en-core-web-sm==3.2.0) (4.62.3)\n",
            "Requirement already satisfied: spacy-loggers<2.0.0,>=1.0.0 in /usr/local/lib/python3.7/dist-packages (from spacy<3.3.0,>=3.2.0->en-core-web-sm==3.2.0) (1.0.1)\n",
            "Requirement already satisfied: catalogue<2.1.0,>=2.0.6 in /usr/local/lib/python3.7/dist-packages (from spacy<3.3.0,>=3.2.0->en-core-web-sm==3.2.0) (2.0.6)\n",
            "Requirement already satisfied: jinja2 in /usr/local/lib/python3.7/dist-packages (from spacy<3.3.0,>=3.2.0->en-core-web-sm==3.2.0) (2.11.3)\n",
            "Requirement already satisfied: typer<0.5.0,>=0.3.0 in /usr/local/lib/python3.7/dist-packages (from spacy<3.3.0,>=3.2.0->en-core-web-sm==3.2.0) (0.4.0)\n",
            "Requirement already satisfied: cymem<2.1.0,>=2.0.2 in /usr/local/lib/python3.7/dist-packages (from spacy<3.3.0,>=3.2.0->en-core-web-sm==3.2.0) (2.0.6)\n",
            "Requirement already satisfied: murmurhash<1.1.0,>=0.28.0 in /usr/local/lib/python3.7/dist-packages (from spacy<3.3.0,>=3.2.0->en-core-web-sm==3.2.0) (1.0.6)\n",
            "Requirement already satisfied: srsly<3.0.0,>=2.4.1 in /usr/local/lib/python3.7/dist-packages (from spacy<3.3.0,>=3.2.0->en-core-web-sm==3.2.0) (2.4.2)\n",
            "Requirement already satisfied: langcodes<4.0.0,>=3.2.0 in /usr/local/lib/python3.7/dist-packages (from spacy<3.3.0,>=3.2.0->en-core-web-sm==3.2.0) (3.3.0)\n",
            "Requirement already satisfied: thinc<8.1.0,>=8.0.12 in /usr/local/lib/python3.7/dist-packages (from spacy<3.3.0,>=3.2.0->en-core-web-sm==3.2.0) (8.0.13)\n",
            "Requirement already satisfied: numpy>=1.15.0 in /usr/local/lib/python3.7/dist-packages (from spacy<3.3.0,>=3.2.0->en-core-web-sm==3.2.0) (1.19.5)\n",
            "Requirement already satisfied: spacy-legacy<3.1.0,>=3.0.8 in /usr/local/lib/python3.7/dist-packages (from spacy<3.3.0,>=3.2.0->en-core-web-sm==3.2.0) (3.0.8)\n",
            "Requirement already satisfied: pathy>=0.3.5 in /usr/local/lib/python3.7/dist-packages (from spacy<3.3.0,>=3.2.0->en-core-web-sm==3.2.0) (0.6.1)\n",
            "Requirement already satisfied: preshed<3.1.0,>=3.0.2 in /usr/local/lib/python3.7/dist-packages (from spacy<3.3.0,>=3.2.0->en-core-web-sm==3.2.0) (3.0.6)\n",
            "Requirement already satisfied: zipp>=0.5 in /usr/local/lib/python3.7/dist-packages (from catalogue<2.1.0,>=2.0.6->spacy<3.3.0,>=3.2.0->en-core-web-sm==3.2.0) (3.7.0)\n",
            "Requirement already satisfied: pyparsing!=3.0.5,>=2.0.2 in /usr/local/lib/python3.7/dist-packages (from packaging>=20.0->spacy<3.3.0,>=3.2.0->en-core-web-sm==3.2.0) (3.0.6)\n",
            "Requirement already satisfied: smart-open<6.0.0,>=5.0.0 in /usr/local/lib/python3.7/dist-packages (from pathy>=0.3.5->spacy<3.3.0,>=3.2.0->en-core-web-sm==3.2.0) (5.2.1)\n",
            "Requirement already satisfied: urllib3!=1.25.0,!=1.25.1,<1.26,>=1.21.1 in /usr/local/lib/python3.7/dist-packages (from requests<3.0.0,>=2.13.0->spacy<3.3.0,>=3.2.0->en-core-web-sm==3.2.0) (1.24.3)\n",
            "Requirement already satisfied: idna<3,>=2.5 in /usr/local/lib/python3.7/dist-packages (from requests<3.0.0,>=2.13.0->spacy<3.3.0,>=3.2.0->en-core-web-sm==3.2.0) (2.10)\n",
            "Requirement already satisfied: certifi>=2017.4.17 in /usr/local/lib/python3.7/dist-packages (from requests<3.0.0,>=2.13.0->spacy<3.3.0,>=3.2.0->en-core-web-sm==3.2.0) (2021.10.8)\n",
            "Requirement already satisfied: chardet<4,>=3.0.2 in /usr/local/lib/python3.7/dist-packages (from requests<3.0.0,>=2.13.0->spacy<3.3.0,>=3.2.0->en-core-web-sm==3.2.0) (3.0.4)\n",
            "Requirement already satisfied: click<9.0.0,>=7.1.1 in /usr/local/lib/python3.7/dist-packages (from typer<0.5.0,>=0.3.0->spacy<3.3.0,>=3.2.0->en-core-web-sm==3.2.0) (7.1.2)\n",
            "Requirement already satisfied: MarkupSafe>=0.23 in /usr/local/lib/python3.7/dist-packages (from jinja2->spacy<3.3.0,>=3.2.0->en-core-web-sm==3.2.0) (2.0.1)\n",
            "Installing collected packages: en-core-web-sm\n",
            "  Attempting uninstall: en-core-web-sm\n",
            "    Found existing installation: en-core-web-sm 2.2.5\n",
            "    Uninstalling en-core-web-sm-2.2.5:\n",
            "      Successfully uninstalled en-core-web-sm-2.2.5\n",
            "Successfully installed en-core-web-sm-3.2.0\n",
            "\u001b[33mWARNING: Running pip as the 'root' user can result in broken permissions and conflicting behaviour with the system package manager. It is recommended to use a virtual environment instead: https://pip.pypa.io/warnings/venv\u001b[0m\n",
            "\u001b[38;5;2m✔ Download and installation successful\u001b[0m\n",
            "You can now load the package via spacy.load('en_core_web_sm')\n"
          ]
        }
      ]
    },
    {
      "cell_type": "code",
      "source": [
        "\"\"\"\n",
        "Import Statements\n",
        "\"\"\"\n",
        "\n",
        "# Base\n",
        "from collections import Counter\n",
        "import re\n",
        " \n",
        "import pandas as pd\n",
        "\n",
        "# Plotting\n",
        "#import squarify\n",
        "import matplotlib.pyplot as plt\n",
        "import seaborn as sns\n",
        "\n",
        "# NLP Libraries\n",
        "import spacy\n",
        "from spacy.tokenizer import Tokenizer\n",
        "from nltk.stem import PorterStemmer"
      ],
      "metadata": {
        "id": "hHk1oPBgl14V"
      },
      "execution_count": 11,
      "outputs": []
    },
    {
      "cell_type": "code",
      "source": [
        "import spacy.cli\n",
        "spacy.cli.download(\"en_core_web_lg\")\n",
        "import en_core_web_lg\n",
        "nlp = en_core_web_lg.load()"
      ],
      "metadata": {
        "id": "lbe505lRl8rY",
        "colab": {
          "base_uri": "https://localhost:8080/"
        },
        "outputId": "ee6c2be1-da1b-4f9c-b0b5-354ed0d41ee8"
      },
      "execution_count": 12,
      "outputs": [
        {
          "output_type": "stream",
          "name": "stdout",
          "text": [
            "\u001b[38;5;2m✔ Download and installation successful\u001b[0m\n",
            "You can now load the package via spacy.load('en_core_web_lg')\n"
          ]
        }
      ]
    },
    {
      "cell_type": "code",
      "source": [
        "import spacy\n",
        "nlp = spacy.load('en_core_web_lg')"
      ],
      "metadata": {
        "id": "wO-5bf1dmPxW"
      },
      "execution_count": 13,
      "outputs": []
    },
    {
      "cell_type": "code",
      "source": [
        "negative_df['Review Text'].value_counts(normalize=True)[:50]"
      ],
      "metadata": {
        "id": "XNEjvgmgmX9n",
        "colab": {
          "base_uri": "https://localhost:8080/"
        },
        "outputId": "883c6f25-1a1a-4f70-b94c-da6a8658ae75"
      },
      "execution_count": 14,
      "outputs": [
        {
          "output_type": "execute_result",
          "data": {
            "text/plain": [
              "I learned to ski here.  Itâs hard on a new skier, but if you make it through you ski for life.  This is home to me so I love it.  My daughter learned here.  Just come, have a relaxed mom and pop Montana ski hill attitude and youâll love it.                                                                                                                                                                                                                                                                                                                                                                                                                                                                                                                                                                                                                                                                                                                                                                                                                                                                                                                                                                                                                                                                                                                                                                                                                                                                                                                                                                                                                                                                                                                                                                                                                                                                                                                                                                                                                                                                                                                                                                                                                                                                                                                                                                                                                                                                                                                                                                                                                                                                                                                  0.005814\n",
              "Showdown is probably one of the best. i've been skiing there since i was 5 and now am just learning to snowboard at the age of 16. its great for teens because they have a bus that takes us up everyweekend and we can create our own runs through the trees. all of our hidden jumps, runs, tree rails, and spots where the powder is so deep you just sink down and cant get out make it a funn and enjoyable time.                                                                                                                                                                                                                                                                                                                                                                                                                                                                                                                                                                                                                                                                                                                                                                                                                                                                                                                                                                                                                                                                                                                                                                                                                                                                                                                                                                                                                                                                                                                                                                                                                                                                                                                                                                                                                                                                                                                                                                                                                                                                                                                                                                                                                                                                                                                                                0.005814\n",
              "Don't do kinderski unless you want your child to stand around for two hours. No one bothered to call the next day to discuss this concern as they said they would. Discussed with the owner and he made me feel bad for calling. Terrible experience. Do not recommend unless you want instructors to make your kid cry then ignore them. Incredible waste of money with the worst customer service and complete disregard for the well being of children I've ever experienced.                                                                                                                                                                                                                                                                                                                                                                                                                                                                                                                                                                                                                                                                                                                                                                                                                                                                                                                                                                                                                                                                                                                                                                                                                                                                                                                                                                                                                                                                                                                                                                                                                                                                                                                                                                                                                                                                                                                                                                                                                                                                                                                                                                                                                                                                                      0.005814\n",
              "We snowboarded at night on Feb 16/ 2020 and during the day on the 17th. Lots of fresh snow and the condition was great both during the day and night!                                                                                                                                                                                                                                                                                                                                                                                                                                                                                                                                                                                                                                                                                                                                                                                                                                                                                                                                                                                                                                                                                                                                                                                                                                                                                                                                                                                                                                                                                                                                                                                                                                                                                                                                                                                                                                                                                                                                                                                                                                                                                                                                                                                                                                                                                                                                                                                                                                                                                                                                                                                                                 0.005814\n",
              "Despite a cloudy day, we had a blast skiing here. The staff was extremely friendly and helpful as we were not familiar with the slopes. The slopes were in good condition and runs were great. The only hinderance, very little visibility because of snow and a cloud was out of their control. I hope I can come back and ski there again.                                                                                                                                                                                                                                                                                                                                                                                                                                                                                                                                                                                                                                                                                                                                                                                                                                                                                                                                                                                                                                                                                                                                                                                                                                                                                                                                                                                                                                                                                                                                                                                                                                                                                                                                                                                                                                                                                                                                                                                                                                                                                                                                                                                                                                                                                                                                                                                                                          0.002907\n",
              "Awesome lift operators and brilliant lift mechanics!!!                                                                                                                                                                                                                                                                                                                                                                                                                                                                                                                                                                                                                                                                                                                                                                                                                                                                                                                                                                                                                                                                                                                                                                                                                                                                                                                                                                                                                                                                                                                                                                                                                                                                                                                                                                                                                                                                                                                                                                                                                                                                                                                                                                                                                                                                                                                                                                                                                                                                                                                                                                                                                                                                                                                0.002907\n",
              "Great day, sun, laughs and skiing tops!\\n\\nChange up patio radio music more please?\\nBar tending crew always has hard rock or Pink Floyd playing.                                                                                                                                                                                                                                                                                                                                                                                                                                                                                                                                                                                                                                                                                                                                                                                                                                                                                                                                                                                                                                                                                                                                                                                                                                                                                                                                                                                                                                                                                                                                                                                                                                                                                                                                                                                                                                                                                                                                                                                                                                                                                                                                                                                                                                                                                                                                                                                                                                                                                                                                                                                                                     0.002907\n",
              "It was a beautiful mountain with friendly people and a beautiful view. The trails are amazing for all levels and not packed at all. There is no traffic or lines. Please come I really recommend the mountain!                                                                                                                                                                                                                                                                                                                                                                                                                                                                                                                                                                                                                                                                                                                                                                                                                                                                                                                                                                                                                                                                                                                                                                                                                                                                                                                                                                                                                                                                                                                                                                                                                                                                                                                                                                                                                                                                                                                                                                                                                                                                                                                                                                                                                                                                                                                                                                                                                                                                                                                                                        0.002907\n",
              "Amazing mountain. Really good terrain for everyone, from beginner flats on the bottom half to the crazy stuff off the schlasman chair. What really made me fall in love with this place and Bozeman in general though is the people. Everyone is super friendly and doesn't hesitate to point you towards the goods.\\n\\nCan't wait to go back :)                                                                                                                                                                                                                                                                                                                                                                                                                                                                                                                                                                                                                                                                                                                                                                                                                                                                                                                                                                                                                                                                                                                                                                                                                                                                                                                                                                                                                                                                                                                                                                                                                                                                                                                                                                                                                                                                                                                                                                                                                                                                                                                                                                                                                                                                                                                                                                                                                      0.002907\n",
              "Everyone was very helpful and welcoming. Great mountain with staff that was always so nice and caring.                                                                                                                                                                                                                                                                                                                                                                                                                                                                                                                                                                                                                                                                                                                                                                                                                                                                                                                                                                                                                                                                                                                                                                                                                                                                                                                                                                                                                                                                                                                                                                                                                                                                                                                                                                                                                                                                                                                                                                                                                                                                                                                                                                                                                                                                                                                                                                                                                                                                                                                                                                                                                                                                0.002907\n",
              "We went to Red Lodge Mountain and enjoyed 2 great days of skiing.The staff at the ski area were so upbeat and helpful. The burgers were awesome                                                                                                                                                                                                                                                                                                                                                                                                                                                                                                                                                                                                                                                                                                                                                                                                                                                                                                                                                                                                                                                                                                                                                                                                                                                                                                                                                                                                                                                                                                                                                                                                                                                                                                                                                                                                                                                                                                                                                                                                                                                                                                                                                                                                                                                                                                                                                                                                                                                                                                                                                                                                                       0.002907\n",
              "We booked a zip line tour. It was the second time for 3 of us and the first for the one. Our hosts were very friendly and it was a great experience. If you have time it is something that you should look at doing. The sites are incredible along with the fun of the zip line.                                                                                                                                                                                                                                                                                                                                                                                                                                                                                                                                                                                                                                                                                                                                                                                                                                                                                                                                                                                                                                                                                                                                                                                                                                                                                                                                                                                                                                                                                                                                                                                                                                                                                                                                                                                                                                                                                                                                                                                                                                                                                                                                                                                                                                                                                                                                                                                                                                                                                     0.002907\n",
              "SnowBowl is wonderful on a powder day (but only for that day, once the sun comes out it is either slush or ice because most of the good runs are South facing.  Walk to the lifts and lodge for the first and last 3 weeks of the season because of low elevation and no snow at the base.  Other than unfriendly staff it is a great place and close to town.  I love it on powder days.                                                                                                                                                                                                                                                                                                                                                                                                                                                                                                                                                                                                                                                                                                                                                                                                                                                                                                                                                                                                                                                                                                                                                                                                                                                                                                                                                                                                                                                                                                                                                                                                                                                                                                                                                                                                                                                                                                                                                                                                                                                                                                                                                                                                                                                                                                                                                                             0.002907\n",
              "The place is simply amazing, the mountains and the trails are awesome! We had a big group from beginners to advanced and everyone had a blast ! My soon joined the ski school and he got much more confident. We had some issues with our skis , and even being our personal equipment the crew was amazing to support and make out experience delightful and unforgettable! We canât wait to be back !!!                                                                                                                                                                                                                                                                                                                                                                                                                                                                                                                                                                                                                                                                                                                                                                                                                                                                                                                                                                                                                                                                                                                                                                                                                                                                                                                                                                                                                                                                                                                                                                                                                                                                                                                                                                                                                                                                                                                                                                                                                                                                                                                                                                                                                                                                                                                                                           0.002907\n",
              "I purchased my pass from Red Lodge Mountain reps at Scheels which is basically a pick 6 price for 7 days. When I got to the mountain, they tried to charge me for a day pass that should have been paid for.  I wanted to use the 7th day (the weekday). I was not allowed to despite my voucher.  There were no black out dates for this voucher.  The only restriction was that it had to be used on a weekday.  The day I went was a Friday.  I was told by the ticketing gal to wait at the customer service window.  A very nice lady there attempted to help me but couldn't figure out how to make the voucher work.  She called for a manager.  I waited for an inexcusible amount of time for the manager on duty to get to the window.  The manager (Annalee) refused to investigate the situation as to why my voucher was not being honored.  Her response was, literally, \"it's not my problem.\"  Fine.  I said I'd like to speak to HER manager.  Annalee REFUSED to even call her manager.  By the time Annalee was done with her vitriol of not being able to help me, raising her voice to me, and refusing to bubble this up after me having to wait an inexcusably long time just for her to get there, it was almost 1230.  So much for ANY riding that day.  Fix your staff and get a better front end manager who possesses higher reasoning skills instead of being a concrete, shrill voiced wall whose only words are, essentially, \"no\" and \"I don't know\" coupled with variations of not-our-problem.\\n\\nI messaged the mountain via facebook and was given sales manager Jeff Carroll's contact info.  Jeff set up a phone appointment with me to discuss this.  He never called at the appointed time.  He didn't call at all later either.  I emailed him wanting to bubble this up further.  He set up another phone appointment with me.  He made that one.  It lasted less than 5 minutes of him saying (paraphrasing here) \"do you want a refund or not.\"  Basically, he was kicking me off of the mountain for his staff's refusal to honor their sale.\\n\\nThis incident was the last straw.  I have been to the mountain before and dealt with the exceptionally rude \"Old Man Miami\" as other riders know him.  I also witnessed bartenders serving blatanly drunk folks, patrons way beyond reasonably inebrieated, which is against Montana law.  These drunken folks then hit the slopes with no one stopping them.  However, if you dare not have a leash on your snowboard, you will be stopped and berated.\\n\\nDon't bother with this place.  Go elsewhere where staff knows what they are doing and actually enjoy being there.  Go somewhere that is not as icy as these slopes.  Bridger is leaps and bounds better.    0.002907\n",
              "Fresh snow and uncrowded slopes and an extreme discount! We were turned on to Discovery Ski mountain by cousins who live in Missoula MT after another trip we had planned fell through over lack of snow. Discovery is just a ski area though and not a true resort. We stayed outside of Missoula and drove about 45 miles to the ski area. It wasnât too far but I did have to drive in the snow. Next trip Iâm considering renting a house at Georgetown lake near the foot of the mountain to be a little closer. The mountain has tons of trails for every level of skier or snowboarder. We didnât have to wait in lift lines at all. Seriously never had more than three people ahead of us. There is a restaurant where you can warm up and get eats and drinks. It was very inexpensive compared to what we were used to. The workers in the rental shop, at the restaurant, and the patrol on the slopes were all very nice and accommodating. One of the children snowboarding in our group did a hard face plant. The snow patrol took him to a recovery / 1st aid area where he was checked for concussion and cleared before being allowed to continue. The rentals were inexpensive as were the lift tickets. Amazingly I returned home from this vacation with money leftover in our vacation fund! I should also add that while it wasnât easy to find flights into Missoula MT that the airport was easy and we injoyed our time in the city of Missoula as well.                                                                                                                                                                                                                                                                                                                                                                                                                                                                                                                                                                                                                                                                                                                                                                                                                                                                                                                                                                                                                                                                                                                                                                                                                                                                           0.002907\n",
              "Our family loves Whitefish Mountain Resort (formerly Big Mountain). The staff at the ski resort is friendly and they strive to make each visit special. We typically start our day at the Base Lodge where the parking is best.                                                                                                                                                                                                                                                                                                                                                                                                                                                                                                                                                                                                                                                                                                                                                                                                                                                                                                                                                                                                                                                                                                                                                                                                                                                                                                                                                                                                                                                                                                                                                                                                                                                                                                                                                                                                                                                                                                                                                                                                                                                                                                                                                                                                                                                                                                                                                                                                                                                                                                                                       0.002907\n",
              "We loved exploring the lovely, charming and friendly town of Red Lodge. As a bonus we learned that the Highway had reopened after an early season snow storm, so we drove it to the scenic Vista. Spectacular views from every switch back, view point and turn in the rid. Beautiful mountain, and pretty streams in the meadow, too.                                                                                                                                                                                                                                                                                                                                                                                                                                                                                                                                                                                                                                                                                                                                                                                                                                                                                                                                                                                                                                                                                                                                                                                                                                                                                                                                                                                                                                                                                                                                                                                                                                                                                                                                                                                                                                                                                                                                                                                                                                                                                                                                                                                                                                                                                                                                                                                                                                0.002907\n",
              "Visited in June. Chairlift to summit provided incredible 360 degree views . Gondola also an option Windy and got colder as we ascended so jacket needed. Lodge serves basic food from 10:30 am so good for lunch . Bottom level of lodge has activity area for kids to learn about; â¦                                                                                                                                                                                                                                                                                                                                                                                                                                                                                                                                                                                                                                                                                                                                                                                                                                                                                                                                                                                                                                                                                                                                                                                                                                                                                                                                                                                                                                                                                                                                                                                                                                                                                                                                                                                                                                                                                                                                                                                                                                                                                                                                                                                                                                                                                                                                                                                                                                                                               0.002907\n",
              "A smaller ski destination however PLENTY of skiing terrain from back-country/beacon-required ridges to nicely novice; no-pretense; no-glitz; affordable (compared to Big Sky); rarely lift-lines. A community-serving non-profit. Excellent ski school and competent rescue (required, alas, when a companion concussed on hard-pack.... it's why one wears a helmet, right?). The BEST!                                                                                                                                                                                                                                                                                                                                                                                                                                                                                                                                                                                                                                                                                                                                                                                                                                                                                                                                                                                                                                                                                                                                                                                                                                                                                                                                                                                                                                                                                                                                                                                                                                                                                                                                                                                                                                                                                                                                                                                                                                                                                                                                                                                                                                                                                                                                                                              0.002907\n",
              "We have had mid-week season passes to BB for the past several years. When we first arrived in Bozeman, I thought, well, we might ski here occasionally. But skiing one or two days a week all season really improved our skiing. The treed routes (they are not official runs) are what MAKE the mountain for us. And of course, there is always the Ridge to move up too, once you get good enough.                                                                                                                                                                                                                                                                                                                                                                                                                                                                                                                                                                                                                                                                                                                                                                                                                                                                                                                                                                                                                                                                                                                                                                                                                                                                                                                                                                                                                                                                                                                                                                                                                                                                                                                                                                                                                                                                                                                                                                                                                                                                                                                                                                                                                                                                                                                                                                  0.002907\n",
              "I live in Florida and have been coming here since 1990.  I like Whitefish so much I ended up building a house here a few years back.  As a seasoned skier/snowboarder my numero uno top things to look for in a ski resort are 1.)  No lines... hence, more skiing, 2.)  No celebrities...yeah , that includes you, Jon Gosselin!  3.)  No Mink coat shops... see item #2.  If you want family atmosphere, it's here.  Want gourmet dinners in town and nightlife, it's here,  Want theater and shows with Broadway talent and facilities to match, it's here.  Not only that, try getting out of downhill for a day or afternoon and take a short drive to Glaicier national park and rent Xcountry skis to hear a splendid silence of the park that is almost deafening in our plugged in world.  The silence and wildlife might just amaze some of the naysayers out there who find  Whitefish a little too, umm, \"foggy\".  Go back to Aspen and Sun Valley, it won't offend the rest of us.                                                                                                                                                                                                                                                                                                                                                                                                                                                                                                                                                                                                                                                                                                                                                                                                                                                                                                                                                                                                                                                                                                                                                                                                                                                                                                                                                                                                                                                                                                                                                                                                                                                                                                                                                                       0.002907\n",
              "This area is great to use. Don't expect high speed quads but enjoy the way skiing is meant to be enjoyed. Great variety of slopes, something for everyone.                                                                                                                                                                                                                                                                                                                                                                                                                                                                                                                                                                                                                                                                                                                                                                                                                                                                                                                                                                                                                                                                                                                                                                                                                                                                                                                                                                                                                                                                                                                                                                                                                                                                                                                                                                                                                                                                                                                                                                                                                                                                                                                                                                                                                                                                                                                                                                                                                                                                                                                                                                                                            0.002907\n",
              "This was an activity we saved for doing once we got everything else in. :) Glad we did. For $16, you can take a lift chair to the summit and back. You can also hike either up or down if you prefer, but one-way lifts are still $9. If you need some coffee, make sure you grab some; â¦                                                                                                                                                                                                                                                                                                                                                                                                                                                                                                                                                                                                                                                                                                                                                                                                                                                                                                                                                                                                                                                                                                                                                                                                                                                                                                                                                                                                                                                                                                                                                                                                                                                                                                                                                                                                                                                                                                                                                                                                                                                                                                                                                                                                                                                                                                                                                                                                                                                                           0.002907\n",
              "We had the mountain to ourselves on a recent COLD February morning. While the lodge leaves you feeling that it is lacking, the skiing is top notch!                                                                                                                                                                                                                                                                                                                                                                                                                                                                                                                                                                                                                                                                                                                                                                                                                                                                                                                                                                                                                                                                                                                                                                                                                                                                                                                                                                                                                                                                                                                                                                                                                                                                                                                                                                                                                                                                                                                                                                                                                                                                                                                                                                                                                                                                                                                                                                                                                                                                                                                                                                                                                   0.002907\n",
              "Red Lodge should have compensated for the power outage. Lifts turned on at 11:45. We were among the first to arrive before 9 am.                                                                                                                                                                                                                                                                                                                                                                                                                                                                                                                                                                                                                                                                                                                                                                                                                                                                                                                                                                                                                                                                                                                                                                                                                                                                                                                                                                                                                                                                                                                                                                                                                                                                                                                                                                                                                                                                                                                                                                                                                                                                                                                                                                                                                                                                                                                                                                                                                                                                                                                                                                                                                                      0.002907\n",
              "Great mountain, small lift line, snow ghosts, (relatively) reasonably priced lift tickets and lodge food. Unfortunately, the ski rentals at the base lodge were a major detraction. My girlfriend is a beginner and our experience was abominable. The girl \"helping\" us got our rental form, grabbed some boots, dropped them in front of my girlfriend and walked away. Fortunately I worked is ski shops in my 20's and knew how to fit boots so I made sure her size was correct, switched her insoles and got her fit and properly buckled. The guy who got her skis asked no questions, just checked her boot sole size and handed her skis with no explanation. The skis were dry but ok and I made sure her poles were the correct size which they didn't bother to do. I don't know if it's poor management, poor training or just ambivalence about the job from gen z young adults but I remember when customer service and caring about helping new skiers in a sport that workers are passionate about was a thing. I would recommend the Sportsman and Ski Haus in Whitefish, they seem to have a better reputation, better prices and certainly couldn't be any worse, I don't think that is possible.                                                                                                                                                                                                                                                                                                                                                                                                                                                                                                                                                                                                                                                                                                                                                                                                                                                                                                                                                                                                                                                                                                                                                                                                                                                                                                                                                                                                                                                                                                                                                 0.002907\n",
              "I have never been to Montana and had a few days off work so I decided to take myself snow boarding. I am a skier but want to learn snow boarding. The drive to Red Lodge was exciting; it is such beautiful country. Red Lodge is a quaint little town with many shops and places to eat. The drive up to Red Lodge Mountain from the town is also exciting. I was particularly fastinated by the sign that requires you to have snow chains or a vehicle that can navigate the steep, often snow laden passage. I realized why on my second day to the hill as I had to climb the mountain in very near white out conditions. Which only caused me to be more excited. Once at the lodge the staff were very helpful and attentive in getting my gear, rental, and onto the slopes. I went right to the Magic Carpet (bunny hill) as my lesson did not start for another hour. The Lift Attendant (aka: Liftie), Bob was so helpful in giving me pointers to get me started. Then, my lesson with Brianna was excellent. She helped me to form a good foundation. My second day on the slopes I went up the Miami Beach Lift. It was snowing the second day so that meant very different skiing conditions. But, the tools that Brianna gave me equipped me for all conditions. I look forward to continuing to snow board and hopefully soon be able to carve like Brianna. Thank you Red Lodge. You have great employees and you gave me a superb snow boarding experience. I look forward to coming back.                                                                                                                                                                                                                                                                                                                                                                                                                                                                                                                                                                                                                                                                                                                                                                                                                                                                                                                                                                                                                                                                                                                                                                                                                                                         0.002907\n",
              "We went there during the summer and took a ride up to the top of the hill. Pretty nice views and nice shop at the top of the hill. There was some kind of slide at the base to go down and it looked pretty fun but we didnât have the time to go down.                                                                                                                                                                                                                                                                                                                                                                                                                                                                                                                                                                                                                                                                                                                                                                                                                                                                                                                                                                                                                                                                                                                                                                                                                                                                                                                                                                                                                                                                                                                                                                                                                                                                                                                                                                                                                                                                                                                                                                                                                                                                                                                                                                                                                                                                                                                                                                                                                                                                                                             0.002907\n",
              "We skied her because we have the Indy Pass. The ski area was much bigger than expected. The snow was very good. The slopes are not crowded. It was a great experience having good, big skiing and not having to sit in a lift line.                                                                                                                                                                                                                                                                                                                                                                                                                                                                                                                                                                                                                                                                                                                                                                                                                                                                                                                                                                                                                                                                                                                                                                                                                                                                                                                                                                                                                                                                                                                                                                                                                                                                                                                                                                                                                                                                                                                                                                                                                                                                                                                                                                                                                                                                                                                                                                                                                                                                                                                                   0.002907\n",
              "After hiking the Danny On Trail and starving, the Base Lodge Cafe was very disappointing. The buffalo burger, bacon, onions, and bun were all burnt (black) and not enjoyable. The onion rings were good and my boyfriend said the milkshake was good. But for a burger that's $13 (not including shake and onion rings) I would expect much better.                                                                                                                                                                                                                                                                                                                                                                                                                                                                                                                                                                                                                                                                                                                                                                                                                                                                                                                                                                                                                                                                                                                                                                                                                                                                                                                                                                                                                                                                                                                                                                                                                                                                                                                                                                                                                                                                                                                                                                                                                                                                                                                                                                                                                                                                                                                                                                                                                  0.002907\n",
              "We travelled from Minnesota to meet family and ski at Red Lodge Mountain. The first day the lift to get up to the top half of the mountain was broken so we could only ski on the bottom half - so we kind of only got half our money's worth (and the prices are getting steep).\\n\\nThe second morning, my cousin's wife ran afowl of the covid rules by going inside the lodge with her toddler to get out of the snow and warm up (you are supposed to wait in your car all day down in the parking lot) and they were kind of harsh with her about it. So at lunch when my cousin came in and heard about it, he went and told the guy \"don't treat my wife that way\" and a few heated words were exchanged and they could have just left it at that - but they didn't. Soon after, as they were eating, another guy came up and told my cousin and his family and his brother, who wasn't even involved but happened to be sitting with them, to get out - they couldn't ski anymore. They couldn't even finish their overpriced food. It all felt very vindictive.\\n\\nTo be fair, most of the employees were nice enough and the skiing was pretty good. But it just rubbed me the wrong way that they would pick a fight with a young mother trying to keep her toddler warm and then kick their family out along with a brother that wasn't even involved. Their zeal for covid seems to be overriding any kind of reason or compassion.                                                                                                                                                                                                                                                                                                                                                                                                                                                                                                                                                                                                                                                                                                                                                                                                                                                                                                                                                                                                                                                                                                                                                                                                                                                                                                                      0.002907\n",
              "This is a great place to learn, a beginner and for kids/family. They pay attention to the slopes. If you see something wrong, or someone who may be hurt they are on top of things. Great place for a day out!                                                                                                                                                                                                                                                                                                                                                                                                                                                                                                                                                                                                                                                                                                                                                                                                                                                                                                                                                                                                                                                                                                                                                                                                                                                                                                                                                                                                                                                                                                                                                                                                                                                                                                                                                                                                                                                                                                                                                                                                                                                                                                                                                                                                                                                                                                                                                                                                                                                                                                                                                        0.002907\n",
              "Another great site to view in the Red Lodge area...............................................................................................................................................                                                                                                                                                                                                                                                                                                                                                                                                                                                                                                                                                                                                                                                                                                                                                                                                                                                                                                                                                                                                                                                                                                                                                                                                                                                                                                                                                                                                                                                                                                                                                                                                                                                                                                                                                                                                                                                                                                                                                                                                                                                                                                                                                                                                                                                                                                                                                                                                                                                                                                                                                                       0.002907\n",
              "Drive from Billings to Red Lodge is scenic in the spring as everything is green.                                                                                                                                                                                                                                                                                                                                                                                                                                                                                                                                                                                                                                                                                                                                                                                                                                                                                                                                                                                                                                                                                                                                                                                                                                                                                                                                                                                                                                                                                                                                                                                                                                                                                                                                                                                                                                                                                                                                                                                                                                                                                                                                                                                                                                                                                                                                                                                                                                                                                                                                                                                                                                                                                      0.002907\n",
              "Since ND had no snow, we went to Red Lodge. We got our lift tickets in advance &amp; skied a total of 7 the 3 weekends we were out there. The lift attendants were very professional &amp; courteous! Hard to find in this day &amp; age. The staff in the rental shop(skied w/one of them) &amp; the staff at the store were also great!. The ski instructors were always busy. I had thought about doing the learn &amp; earn package, that way they could get off the bunny hill &amp; do some skiing w/another ski instructor. But we didn't have time. The staff at the Midway Chalet were great &amp; the Staff at the Bierstube were always courteous. The \"Stube\" was always packed when we were there, &amp; the staff was always apologizing for our food taking so long. I have been in their shoes &amp; understand. We always thanked them &amp; told them we are ok &amp; not in a hurry. It put a couple of the waitresses at ease! kudos to Madeline for busting her buns the 3 weekends we were there.                                                                                                                                                                                                                                                                                                                                                                                                                                                                                                                                                                                                                                                                                                                                                                                                                                                                                                                                                                                                                                                                                                                                                                                                                                                                                                                                                                                                                                                                                                                                                                                                                                                                                                                                               0.002907\n",
              "I never heard of this place until Edelweiss was the only place available when we wanted to go. Boy am I glad RCI led us to Whitefish. Best snowboarding we have ever had. The St. Augustine Snowboard team had a blast. Edelweiss was a great place to stay and convientent to everything. Two lifts out our back door, one lift out the front. Bierstube next door, Ed & Mullys across the road. The people are extremely friendly. If your in town, make sure you hit up Powder Hour at Ed & Mullys.... $4 PBR pitchers. Can't wait to go back.                                                                                                                                                                                                                                                                                                                                                                                                                                                                                                                                                                                                                                                                                                                                                                                                                                                                                                                                                                                                                                                                                                                                                                                                                                                                                                                                                                                                                                                                                                                                                                                                                                                                                                                                                                                                                                                                                                                                                                                                                                                                                                                                                                                                                     0.002907\n",
              "Travelled with my daughter on a spring break trip. Snow and terrain were awesome. We have been coming here for years as a family, best ski area for the money.                                                                                                                                                                                                                                                                                                                                                                                                                                                                                                                                                                                                                                                                                                                                                                                                                                                                                                                                                                                                                                                                                                                                                                                                                                                                                                                                                                                                                                                                                                                                                                                                                                                                                                                                                                                                                                                                                                                                                                                                                                                                                                                                                                                                                                                                                                                                                                                                                                                                                                                                                                                                        0.002907\n",
              "After traveling 900 miles from Minneapolis, I did not expect I would need a tank to navigate their terrible parking lot. Their are holes that you could lose your vehicle in..........terrible.                                                                                                                                                                                                                                                                                                                                                                                                                                                                                                                                                                                                                                                                                                                                                                                                                                                                                                                                                                                                                                                                                                                                                                                                                                                                                                                                                                                                                                                                                                                                                                                                                                                                                                                                                                                                                                                                                                                                                                                                                                                                                                                                                                                                                                                                                                                                                                                                                                                                                                                                                                       0.002907\n",
              "We found our mountain approx, 8 years ago on a last minute deal.  Our hotel named on arrival, turned out to be Grouse Mountain Lodge, probably the nicest hotel in our opinion, though there are many good ones.  First time we'd been to USA, previous two years Banff, otherwise Europe. Two weeks and we're hooked!  Return the following two years, staying at the Grouse.  Following year buying a home at Ptarmigan Village.  The mountain is beautiful, approx 4000 acres, stunning views, good runs catering for all. You want Powder there's lots of it!  See the Snow Ghosts!  Over the years we've seen a lot of development some good, some not so good.  Locals will tell you, ' they are trying to make it another Aspen', we hope not, though nothing against Aspen. We just fell 'in love' with the mountain, at any time of year, generally trying to make at least 2/3 visits per year.  This snow we're going for 3 months ski, how lucky are we! Whitefish is a quaint town, approx 6mls from ski village, free snowbus, couldn't wish for more, restaurants, bars, shops, everything you need and probably the nicest friendliest  people ever.  We can't wait to get back there, home!                                                                                                                                                                                                                                                                                                                                                                                                                                                                                                                                                                                                                                                                                                                                                                                                                                                                                                                                                                                                                                                                                                                                                                                                                                                                                                                                                                                                                                                                                                                                                          0.002907\n",
              "Great little spring break trip! Would recommend to anyone who is learning or already a master! The lift operators are very nice and helpful if you need directions! The lodge is a very welcoming area with a cozy wood fireplace smell!                                                                                                                                                                                                                                                                                                                                                                                                                                                                                                                                                                                                                                                                                                                                                                                                                                                                                                                                                                                                                                                                                                                                                                                                                                                                                                                                                                                                                                                                                                                                                                                                                                                                                                                                                                                                                                                                                                                                                                                                                                                                                                                                                                                                                                                                                                                                                                                                                                                                                                                              0.002907\n",
              "Thank you Red Lodge Mountain! I feel so lucky that I am able to stay safe while skiing. Very appreciative of everyone at RLM who has worked so hard to keep everyone safe this winter and be able to open. I feel safe skiing here knowing that the mountain is following all COVID-19 protocols. Would recommend this place to anyone.                                                                                                                                                                                                                                                                                                                                                                                                                                                                                                                                                                                                                                                                                                                                                                                                                                                                                                                                                                                                                                                                                                                                                                                                                                                                                                                                                                                                                                                                                                                                                                                                                                                                                                                                                                                                                                                                                                                                                                                                                                                                                                                                                                                                                                                                                                                                                                                                                               0.002907\n",
              "Value was decent at $50 for lift ticket and $25 rentals. Good variety of skiing. Dining options were good considering this is a community owned ski area.\\n\\nLift guys could possibly be a bit more courteous since we arent all expert skiers. A few miles outside Bozeman but no big deal, just be careful driving if very early in the mornings.                                                                                                                                                                                                                                                                                                                                                                                                                                                                                                                                                                                                                                                                                                                                                                                                                                                                                                                                                                                                                                                                                                                                                                                                                                                                                                                                                                                                                                                                                                                                                                                                                                                                                                                                                                                                                                                                                                                                                                                                                                                                                                                                                                                                                                                                                                                                                                                                                   0.002907\n",
              "Loved Whitefish. Such a great mountain with efficient lift ops and fantastic terrain. Can't wait to come back.                                                                                                                                                                                                                                                                                                                                                                                                                                                                                                                                                                                                                                                                                                                                                                                                                                                                                                                                                                                                                                                                                                                                                                                                                                                                                                                                                                                                                                                                                                                                                                                                                                                                                                                                                                                                                                                                                                                                                                                                                                                                                                                                                                                                                                                                                                                                                                                                                                                                                                                                                                                                                                                        0.002907\n",
              "Over all we had a nice time and almost everyone was helpful and friendly. There was a rude gentleman running the 3 chair lift and got upset when a little girl (5-6) lost her ski and  this mother of 2 tried to get it back on and asked him to stop the chair, he didn't try to help out just stood there.                                                                                                                                                                                                                                                                                                                                                                                                                                                                                                                                                                                                                                                                                                                                                                                                                                                                                                                                                                                                                                                                                                                                                                                                                                                                                                                                                                                                                                                                                                                                                                                                                                                                                                                                                                                                                                                                                                                                                                                                                                                                                                                                                                                                                                                                                                                                                                                                                                                          0.002907\n",
              "Don't waste your time or money!! We booked a zip and stay package for our honeymoon and drove 600 miles and 2 states to do this. When we checked in the man at the Kintla lodge check in desk was horribly rude. Our room was ok, small with a queen bed but otherwise fine. They have a tiny hot tub that closes at 10pm and didn't re-open until 10 am. It smelled like rotten eggs\\n\\nThe zip tour had been rescheduled because of weather, which is awesome that they called and gave us a heads up. Luckily we opted for the refund and my husband was going to just book the next day if weather would cooperate.\\n\\nWhen we woke up for the 10 am check out (really 10 am? Too early) the weather was better so we packed up, checked out to get a coffee next door at the village coffee shop. We literally walked up between 10:00 and 10:01 and the girl just looked at us and looked away talking to her boyfriend who was sucking down some drink. Apparently the stupid coffee shop closed at 10. Horrible that she didn't even try to say sorry we just closed or even point to the darn sign!\\n\\nNext try was to go to the coffee shop at base lodge where he was going to do the zip line. We parked and got in there and couldn't find an open coffee shop, was passed by no less then 8 staff while looking. Not one of them would even help. When we walked by the mountain excursion room and the zip line check in every employee was staring blankly and not one of them were any help.\\n\\nWe left. Completely disappointed in our experience with this whole resort!! (Katie and Suzanne you are the only nice ones) Worst staff ever! Everywhere we went staff just treated us like we were putting them out by even being there. Both my husband and I have worked in many different roles with customer service and just cringe at this resort. Never has it been so hard to spend our money somewhere!!                                                                                                                                                                                                                                                                                                                                                                                                                                                                                                                                                                                                                                                                                                                                                                                                                                    0.002907\n",
              "Bridger Bowl is amazing! It was runs for all levels, and lots of them, you couldn't get bored. Much more reasonable pricing than Big Sky or other more famous ski areas. And the conveyor belts under the chair lifts are fabulous, more ski fields should utilise them.                                                                                                                                                                                                                                                                                                                                                                                                                                                                                                                                                                                                                                                                                                                                                                                                                                                                                                                                                                                                                                                                                                                                                                                                                                                                                                                                                                                                                                                                                                                                                                                                                                                                                                                                                                                                                                                                                                                                                                                                                                                                                                                                                                                                                                                                                                                                                                                                                                                                                              0.002907\n",
              "From Billings, MT to Red Lodge town (56 miles) you will see the gateway to Yellowstone Park with wonderful and unbelievable views, by Beartooth highway! Trees, snow, ice, bears! The place is unforgettable!                                                                                                                                                                                                                                                                                                                                                                                                                                                                                                                                                                                                                                                                                                                                                                                                                                                                                                                                                                                                                                                                                                                                                                                                                                                                                                                                                                                                                                                                                                                                                                                                                                                                                                                                                                                                                                                                                                                                                                                                                                                                                                                                                                                                                                                                                                                                                                                                                                                                                                                                                         0.002907\n",
              "My family of 5 just stayed at the Sherpa in Whitefish for a few days with a goal of visiting Glacier.  The accomodations were very nice and there was plenty of room for us all. I don't know that it was worth the price but it was very nice.  (We loved being close to the pool.)  We loved going down the alpine slide and the Zipline the staff was very helpful. Everything on this mountain was pricey (especially for a slow summer day- and I bring tip cash with you).  Abbey and Jenny were awesome zipline guides!                                                                                                                                                                                                                                                                                                                                                                                                                                                                                                                                                                                                                                                                                                                                                                                                                                                                                                                                                                                                                                                                                                                                                                                                                                                                                                                                                                                                                                                                                                                                                                                                                                                                                                                                                                                                                                                                                                                                                                                                                                                                                                                                                                                                                                        0.002907\n",
              "Bridger Bowl is only 16 miles from Bozeman making it a playground for winter sports enthusiasts in the area. Excellent expert terrain, less expensive than many ski areas, inexpensive season passes, all lifts have moving carpets for smooth loading. Been skiing/snowboarding there for nearly 30 years now.                                                                                                                                                                                                                                                                                                                                                                                                                                                                                                                                                                                                                                                                                                                                                                                                                                                                                                                                                                                                                                                                                                                                                                                                                                                                                                                                                                                                                                                                                                                                                                                                                                                                                                                                                                                                                                                                                                                                                                                                                                                                                                                                                                                                                                                                                                                                                                                                                                                       0.002907\n",
              "Name: Review Text, dtype: float64"
            ]
          },
          "metadata": {},
          "execution_count": 14
        }
      ]
    },
    {
      "cell_type": "code",
      "source": [
        "def tokenize(text):\n",
        "    \"\"\"Parses a string into a list of semantic units (words)\n",
        "\n",
        "    Args:\n",
        "        text (str): The string that the function will tokenize.\n",
        "\n",
        "    Returns:\n",
        "        list: tokens parsed out by the mechanics of your choice\n",
        "    \"\"\"\n",
        "    \n",
        "    tokens = re.sub(r'[^a-zA-Z ^0-9]', '', text)\n",
        "    tokens = tokens.lower().split()\n",
        "    \n",
        "    return tokens"
      ],
      "metadata": {
        "id": "-rr7DphLmtoT"
      },
      "execution_count": 15,
      "outputs": []
    },
    {
      "cell_type": "code",
      "source": [
        "negative_text_df[0]"
      ],
      "metadata": {
        "colab": {
          "base_uri": "https://localhost:8080/",
          "height": 35
        },
        "id": "2to7vHcMyPxU",
        "outputId": "d68d5e51-17b7-436d-a263-a7af3eadce5a"
      },
      "execution_count": 37,
      "outputs": [
        {
          "output_type": "execute_result",
          "data": {
            "application/vnd.google.colaboratory.intrinsic+json": {
              "type": "string"
            },
            "text/plain": [
              "\"Champagne pow can't be beat! Definitely a local small town resort with big powder! Tons of terrain to explore.\""
            ]
          },
          "metadata": {},
          "execution_count": 37
        }
      ]
    },
    {
      "cell_type": "code",
      "source": [
        "neg_string = negative_text_df.apply(str)"
      ],
      "metadata": {
        "id": "-yXOG_yEzkOA"
      },
      "execution_count": 42,
      "outputs": []
    },
    {
      "cell_type": "code",
      "source": [
        "neg_string"
      ],
      "metadata": {
        "colab": {
          "base_uri": "https://localhost:8080/"
        },
        "id": "l7mzjkLX216Q",
        "outputId": "4c3d26f5-074b-41ea-a51f-5dede087d987"
      },
      "execution_count": 43,
      "outputs": [
        {
          "output_type": "execute_result",
          "data": {
            "text/plain": [
              "0      Champagne pow can't be beat! Definitely a loca...\n",
              "1      We skied a couple of days here and thought it ...\n",
              "2      The breadth of skiing opportunities is simply ...\n",
              "3      Our family loves Whitefish Mountain Resort (fo...\n",
              "4      Trying to get a break from the crowds and hust...\n",
              "                             ...                        \n",
              "351    MUST have breakfast at The Red Lodge Cafe!  Th...\n",
              "352    Red Lodge has been a Family tradition since 19...\n",
              "353    The crowds are almost always thinned out by Wa...\n",
              "354    Showdown is probably one of the best. i've bee...\n",
              "355    Showdown is probably one of the best. i've bee...\n",
              "Name: Review Text, Length: 356, dtype: object"
            ]
          },
          "metadata": {},
          "execution_count": 43
        }
      ]
    },
    {
      "cell_type": "code",
      "source": [
        "type(neg_string)"
      ],
      "metadata": {
        "colab": {
          "base_uri": "https://localhost:8080/"
        },
        "id": "j7mHNNlNzyOw",
        "outputId": "abd7ebf4-ce14-42c8-a322-e6ce8f1f06cf"
      },
      "execution_count": 29,
      "outputs": [
        {
          "output_type": "execute_result",
          "data": {
            "text/plain": [
              "str"
            ]
          },
          "metadata": {},
          "execution_count": 29
        }
      ]
    },
    {
      "cell_type": "code",
      "source": [
        "negative_text_df['tokens'] = neg_string.apply(tokenize)"
      ],
      "metadata": {
        "id": "zqNC25Fmmybg",
        "colab": {
          "base_uri": "https://localhost:8080/"
        },
        "outputId": "ab9b0cd6-0090-4d75-d300-f284565b6599"
      },
      "execution_count": 44,
      "outputs": [
        {
          "output_type": "stream",
          "name": "stderr",
          "text": [
            "/usr/local/lib/python3.7/dist-packages/ipykernel_launcher.py:1: SettingWithCopyWarning: \n",
            "A value is trying to be set on a copy of a slice from a DataFrame\n",
            "\n",
            "See the caveats in the documentation: https://pandas.pydata.org/pandas-docs/stable/user_guide/indexing.html#returning-a-view-versus-a-copy\n",
            "  \"\"\"Entry point for launching an IPython kernel.\n"
          ]
        }
      ]
    },
    {
      "cell_type": "code",
      "source": [
        "negative_text_df['tokens'].head()"
      ],
      "metadata": {
        "id": "2qpx_KQcn1Wu",
        "colab": {
          "base_uri": "https://localhost:8080/"
        },
        "outputId": "a95d992a-3f2c-4f49-c433-78919e03f52b"
      },
      "execution_count": 45,
      "outputs": [
        {
          "output_type": "execute_result",
          "data": {
            "text/plain": [
              "0    [champagne, pow, cant, be, beat, definitely, a...\n",
              "1    [we, skied, a, couple, of, days, here, and, th...\n",
              "2    [the, breadth, of, skiing, opportunities, is, ...\n",
              "3    [our, family, loves, whitefish, mountain, reso...\n",
              "4    [trying, to, get, a, break, from, the, crowds,...\n",
              "Name: Review Text, dtype: object"
            ]
          },
          "metadata": {},
          "execution_count": 45
        }
      ]
    },
    {
      "cell_type": "code",
      "source": [
        "# Object from Base Python\n",
        "from collections import Counter\n",
        "\n",
        "# The object `Counter` takes an iterable, but you can instaniate an empty one and update it. \n",
        "word_counts = Counter()\n",
        "\n",
        "# Update it based on a split of each of our documents\n",
        "negative_text_df['tokens'].apply(lambda x: word_counts.update(x))\n",
        "\n",
        "# Print out the 500 most common words\n",
        "word_counts.most_common(500)"
      ],
      "metadata": {
        "id": "m99TTjezoABT",
        "colab": {
          "base_uri": "https://localhost:8080/"
        },
        "outputId": "4d168243-8e7d-48a4-9bad-3f55f724551b"
      },
      "execution_count": 47,
      "outputs": [
        {
          "output_type": "execute_result",
          "data": {
            "text/plain": [
              "[('the', 1527),\n",
              " ('and', 932),\n",
              " ('to', 800),\n",
              " ('a', 712),\n",
              " ('of', 513),\n",
              " ('is', 370),\n",
              " ('was', 364),\n",
              " ('for', 357),\n",
              " ('i', 334),\n",
              " ('we', 314),\n",
              " ('in', 288),\n",
              " ('it', 275),\n",
              " ('you', 237),\n",
              " ('on', 227),\n",
              " ('ski', 226),\n",
              " ('are', 220),\n",
              " ('at', 217),\n",
              " ('that', 215),\n",
              " ('with', 203),\n",
              " ('but', 189),\n",
              " ('great', 189),\n",
              " ('mountain', 184),\n",
              " ('were', 182),\n",
              " ('this', 178),\n",
              " ('have', 173),\n",
              " ('they', 171),\n",
              " ('there', 165),\n",
              " ('not', 145),\n",
              " ('snow', 139),\n",
              " ('lift', 139),\n",
              " ('my', 135),\n",
              " ('from', 130),\n",
              " ('had', 130),\n",
              " ('very', 126),\n",
              " ('so', 123),\n",
              " ('be', 122),\n",
              " ('all', 122),\n",
              " ('lodge', 120),\n",
              " ('skiing', 117),\n",
              " ('up', 117),\n",
              " ('good', 117),\n",
              " ('our', 115),\n",
              " ('day', 115),\n",
              " ('if', 113),\n",
              " ('time', 93),\n",
              " ('runs', 91),\n",
              " ('resort', 86),\n",
              " ('as', 86),\n",
              " ('place', 83),\n",
              " ('get', 81),\n",
              " ('out', 80),\n",
              " ('no', 79),\n",
              " ('when', 77),\n",
              " ('or', 76),\n",
              " ('your', 73),\n",
              " ('nice', 73),\n",
              " ('some', 73),\n",
              " ('area', 72),\n",
              " ('me', 71),\n",
              " ('here', 70),\n",
              " ('red', 70),\n",
              " ('its', 68),\n",
              " ('only', 68),\n",
              " ('go', 66),\n",
              " ('just', 66),\n",
              " ('terrain', 65),\n",
              " ('one', 65),\n",
              " ('like', 64),\n",
              " ('big', 63),\n",
              " ('staff', 63),\n",
              " ('been', 62),\n",
              " ('more', 62),\n",
              " ('people', 60),\n",
              " ('back', 59),\n",
              " ('bridger', 59),\n",
              " ('would', 58),\n",
              " ('has', 54),\n",
              " ('us', 53),\n",
              " ('about', 53),\n",
              " ('their', 53),\n",
              " ('an', 52),\n",
              " ('he', 52),\n",
              " ('really', 51),\n",
              " ('will', 51),\n",
              " ('fun', 51),\n",
              " ('even', 51),\n",
              " ('friendly', 50),\n",
              " ('can', 50),\n",
              " ('little', 48),\n",
              " ('food', 48),\n",
              " ('family', 47),\n",
              " ('down', 47),\n",
              " ('year', 47),\n",
              " ('lifts', 47),\n",
              " ('days', 46),\n",
              " ('than', 44),\n",
              " ('do', 44),\n",
              " ('what', 43),\n",
              " ('by', 42),\n",
              " ('lines', 42),\n",
              " ('powder', 41),\n",
              " ('also', 41),\n",
              " ('dont', 41),\n",
              " ('years', 40),\n",
              " ('first', 40),\n",
              " ('after', 40),\n",
              " ('them', 39),\n",
              " ('chair', 38),\n",
              " ('best', 38),\n",
              " ('take', 38),\n",
              " ('other', 38),\n",
              " ('well', 38),\n",
              " ('season', 37),\n",
              " ('make', 37),\n",
              " ('experience', 37),\n",
              " ('two', 37),\n",
              " ('tickets', 36),\n",
              " ('town', 35),\n",
              " ('whitefish', 35),\n",
              " ('did', 35),\n",
              " ('went', 35),\n",
              " ('love', 34),\n",
              " ('hill', 34),\n",
              " ('better', 34),\n",
              " ('long', 34),\n",
              " ('always', 34),\n",
              " ('skiers', 34),\n",
              " ('got', 33),\n",
              " ('kids', 33),\n",
              " ('top', 33),\n",
              " ('because', 33),\n",
              " ('being', 33),\n",
              " ('open', 33),\n",
              " ('bowl', 33),\n",
              " ('lots', 32),\n",
              " ('much', 32),\n",
              " ('how', 32),\n",
              " ('few', 31),\n",
              " ('line', 31),\n",
              " ('amp', 31),\n",
              " ('made', 31),\n",
              " ('where', 30),\n",
              " ('going', 30),\n",
              " ('way', 30),\n",
              " ('prices', 30),\n",
              " ('slopes', 29),\n",
              " ('too', 29),\n",
              " ('3', 28),\n",
              " ('many', 28),\n",
              " ('didnt', 28),\n",
              " ('her', 28),\n",
              " ('who', 28),\n",
              " ('which', 28),\n",
              " ('drive', 28),\n",
              " ('montana', 28),\n",
              " ('bozeman', 28),\n",
              " ('sky', 28),\n",
              " ('skied', 27),\n",
              " ('over', 27),\n",
              " ('lot', 27),\n",
              " ('never', 27),\n",
              " ('off', 27),\n",
              " ('10', 26),\n",
              " ('base', 26),\n",
              " ('find', 26),\n",
              " ('every', 26),\n",
              " ('want', 26),\n",
              " ('trip', 26),\n",
              " ('then', 26),\n",
              " ('local', 25),\n",
              " ('still', 25),\n",
              " ('views', 25),\n",
              " ('could', 25),\n",
              " ('said', 25),\n",
              " ('everyone', 25),\n",
              " ('last', 24),\n",
              " ('week', 24),\n",
              " ('park', 24),\n",
              " ('run', 24),\n",
              " ('any', 24),\n",
              " ('ride', 23),\n",
              " ('2', 23),\n",
              " ('pretty', 23),\n",
              " ('need', 23),\n",
              " ('money', 23),\n",
              " ('know', 23),\n",
              " ('though', 23),\n",
              " ('ive', 23),\n",
              " ('next', 23),\n",
              " ('small', 22),\n",
              " ('half', 22),\n",
              " ('youre', 22),\n",
              " ('told', 22),\n",
              " ('cant', 21),\n",
              " ('parking', 21),\n",
              " ('took', 21),\n",
              " ('helpful', 21),\n",
              " ('times', 21),\n",
              " ('group', 21),\n",
              " ('old', 21),\n",
              " ('most', 21),\n",
              " ('pass', 21),\n",
              " ('resorts', 20),\n",
              " ('zip', 20),\n",
              " ('price', 20),\n",
              " ('while', 20),\n",
              " ('easy', 20),\n",
              " ('rental', 20),\n",
              " ('loved', 20),\n",
              " ('before', 20),\n",
              " ('new', 20),\n",
              " ('conditions', 20),\n",
              " ('reasonable', 20),\n",
              " ('couple', 19),\n",
              " ('awesome', 19),\n",
              " ('super', 19),\n",
              " ('amazing', 19),\n",
              " ('black', 19),\n",
              " ('visit', 19),\n",
              " ('am', 19),\n",
              " ('see', 19),\n",
              " ('right', 19),\n",
              " ('beautiful', 19),\n",
              " ('since', 19),\n",
              " ('weather', 19),\n",
              " ('im', 19),\n",
              " ('low', 19),\n",
              " ('ticket', 19),\n",
              " ('enjoy', 19),\n",
              " ('into', 18),\n",
              " ('crowded', 18),\n",
              " ('service', 18),\n",
              " ('should', 18),\n",
              " ('fantastic', 18),\n",
              " ('skier', 18),\n",
              " ('hard', 18),\n",
              " ('none', 18),\n",
              " ('discovery', 18),\n",
              " ('away', 17),\n",
              " ('closed', 17),\n",
              " ('getting', 17),\n",
              " ('around', 17),\n",
              " ('plenty', 17),\n",
              " ('minutes', 17),\n",
              " ('feel', 17),\n",
              " ('come', 17),\n",
              " ('slow', 17),\n",
              " ('miles', 17),\n",
              " ('again', 17),\n",
              " ('definitely', 16),\n",
              " ('4', 16),\n",
              " ('enjoyed', 16),\n",
              " ('sure', 16),\n",
              " ('why', 16),\n",
              " ('second', 16),\n",
              " ('enough', 16),\n",
              " ('options', 16),\n",
              " ('however', 16),\n",
              " ('his', 16),\n",
              " ('those', 16),\n",
              " ('less', 16),\n",
              " ('looking', 15),\n",
              " ('nothing', 15),\n",
              " ('couldnt', 15),\n",
              " ('slide', 15),\n",
              " ('excellent', 15),\n",
              " ('recommend', 15),\n",
              " ('bad', 15),\n",
              " ('shop', 15),\n",
              " ('stay', 15),\n",
              " ('end', 15),\n",
              " ('levels', 15),\n",
              " ('high', 15),\n",
              " ('wait', 15),\n",
              " ('lesson', 15),\n",
              " ('skis', 15),\n",
              " ('variety', 14),\n",
              " ('bottom', 14),\n",
              " ('bar', 14),\n",
              " ('places', 14),\n",
              " ('instructor', 14),\n",
              " ('something', 14),\n",
              " ('through', 14),\n",
              " ('5', 14),\n",
              " ('him', 14),\n",
              " ('try', 14),\n",
              " ('called', 14),\n",
              " ('cold', 14),\n",
              " ('now', 14),\n",
              " ('another', 14),\n",
              " ('short', 14),\n",
              " ('wasnt', 14),\n",
              " ('think', 14),\n",
              " ('ever', 14),\n",
              " ('rude', 14),\n",
              " ('hit', 14),\n",
              " ('crowds', 13),\n",
              " ('front', 13),\n",
              " ('road', 13),\n",
              " ('stayed', 13),\n",
              " ('summer', 13),\n",
              " ('due', 13),\n",
              " ('having', 13),\n",
              " ('alpine', 13),\n",
              " ('value', 13),\n",
              " ('thats', 13),\n",
              " ('work', 13),\n",
              " ('almost', 13),\n",
              " ('snowboard', 13),\n",
              " ('holiday', 13),\n",
              " ('trees', 13),\n",
              " ('outside', 13),\n",
              " ('wont', 13),\n",
              " ('speed', 13),\n",
              " ('locals', 13),\n",
              " ('incredible', 12),\n",
              " ('spring', 12),\n",
              " ('room', 12),\n",
              " ('worth', 12),\n",
              " ('may', 12),\n",
              " ('during', 12),\n",
              " ('especially', 12),\n",
              " ('deep', 12),\n",
              " ('tell', 12),\n",
              " ('home', 12),\n",
              " ('trails', 12),\n",
              " ('seen', 12),\n",
              " ('beginner', 12),\n",
              " ('friends', 12),\n",
              " ('patrol', 12),\n",
              " ('these', 12),\n",
              " ('beginners', 12),\n",
              " ('close', 12),\n",
              " ('amount', 11),\n",
              " ('each', 11),\n",
              " ('coffee', 11),\n",
              " ('things', 11),\n",
              " ('everything', 11),\n",
              " ('hike', 11),\n",
              " ('winter', 11),\n",
              " ('found', 11),\n",
              " ('seems', 11),\n",
              " ('lessons', 11),\n",
              " ('fresh', 11),\n",
              " ('put', 11),\n",
              " ('once', 11),\n",
              " ('16', 11),\n",
              " ('hours', 11),\n",
              " ('left', 11),\n",
              " ('overall', 11),\n",
              " ('disappointed', 11),\n",
              " ('unless', 11),\n",
              " ('icy', 11),\n",
              " ('until', 11),\n",
              " ('probably', 11),\n",
              " ('vacation', 11),\n",
              " ('mountains', 11),\n",
              " ('hour', 11),\n",
              " ('theres', 11),\n",
              " ('both', 11),\n",
              " ('although', 10),\n",
              " ('break', 10),\n",
              " ('view', 10),\n",
              " ('able', 10),\n",
              " ('lunch', 10),\n",
              " ('night', 10),\n",
              " ('sun', 10),\n",
              " ('wonderful', 10),\n",
              " ('7', 10),\n",
              " ('blast', 10),\n",
              " ('steep', 10),\n",
              " ('must', 10),\n",
              " ('safety', 10),\n",
              " ('came', 10),\n",
              " ('kind', 10),\n",
              " ('she', 10),\n",
              " ('mostly', 10),\n",
              " ('free', 10),\n",
              " ('instructors', 10),\n",
              " ('equipment', 10),\n",
              " ('near', 10),\n",
              " ('far', 10),\n",
              " ('anyone', 10),\n",
              " ('1', 10),\n",
              " ('20', 10),\n",
              " ('groomed', 10),\n",
              " ('isnt', 10),\n",
              " ('expert', 10),\n",
              " ('fairly', 10),\n",
              " ('gets', 10),\n",
              " ('double', 10),\n",
              " ('unfortunately', 10),\n",
              " ('intermediate', 10),\n",
              " ('passes', 10),\n",
              " ('coming', 10),\n",
              " ('call', 10),\n",
              " ('cheap', 10),\n",
              " ('advanced', 10),\n",
              " ('daughter', 10),\n",
              " ('instead', 10),\n",
              " ('favorite', 10),\n",
              " ('child', 10),\n",
              " ('asked', 10),\n",
              " ('rlm', 10),\n",
              " ('point', 10),\n",
              " ('five', 10),\n",
              " ('areas', 10),\n",
              " ('say', 10),\n",
              " ('manager', 10),\n",
              " ('beat', 9),\n",
              " ('trying', 9),\n",
              " ('happy', 9),\n",
              " ('use', 9),\n",
              " ('summit', 9),\n",
              " ('level', 9),\n",
              " ('lodging', 9),\n",
              " ('drove', 9),\n",
              " ('activities', 9),\n",
              " ('perfect', 9),\n",
              " ('walk', 9),\n",
              " ('early', 9),\n",
              " ('access', 9),\n",
              " ('hot', 9),\n",
              " ('tried', 9),\n",
              " ('lack', 9),\n",
              " ('children', 9),\n",
              " ('least', 9),\n",
              " ('6', 9),\n",
              " ('review', 9),\n",
              " ('without', 9),\n",
              " ('own', 9),\n",
              " ('snowbowl', 9),\n",
              " ('pay', 9),\n",
              " ('several', 9),\n",
              " ('poor', 9),\n",
              " ('past', 9),\n",
              " ('taken', 9),\n",
              " ('snowboarders', 9),\n",
              " ('billings', 9),\n",
              " ('warm', 9),\n",
              " ('keep', 9),\n",
              " ('decent', 9),\n",
              " ('minute', 9),\n",
              " ('customer', 9),\n",
              " ('jeff', 9),\n",
              " ('groomers', 8),\n",
              " ('green', 8),\n",
              " ('sit', 8),\n",
              " ('expect', 8),\n",
              " ('large', 8),\n",
              " ('late', 8),\n",
              " ('stop', 8),\n",
              " ('part', 8),\n",
              " ('tour', 8),\n",
              " ('real', 8),\n",
              " ('look', 8),\n",
              " ('seemed', 8),\n",
              " ('restaurant', 8),\n",
              " ('school', 8),\n",
              " ('size', 8),\n",
              " ('along', 8),\n",
              " ('riding', 8),\n",
              " ('worked', 8),\n",
              " ('full', 8),\n",
              " ('myself', 8),\n",
              " ('true', 8),\n",
              " ('fine', 8),\n",
              " ('easily', 8),\n",
              " ('purchased', 8),\n",
              " ('terrible', 8),\n",
              " ('missoula', 8),\n",
              " ('worst', 8),\n",
              " ('ice', 8),\n",
              " ('ended', 8),\n",
              " ('mt', 8),\n",
              " ('quality', 8),\n",
              " ('driving', 8),\n",
              " ('wrong', 8),\n",
              " ('needs', 8),\n",
              " ('give', 8),\n",
              " ('beer', 8),\n",
              " ('stuff', 8),\n",
              " ('state', 8),\n",
              " ('employees', 8),\n",
              " ('reason', 8),\n",
              " ('management', 8),\n",
              " ('weekends', 8),\n",
              " ('busy', 8),\n",
              " ('spots', 8),\n",
              " ('themselves', 8),\n",
              " ('hope', 8),\n",
              " ('compared', 8),\n",
              " ('allowed', 8),\n",
              " ('might', 8),\n",
              " ('ridge', 8),\n",
              " ('thought', 7),\n",
              " ('foot', 7),\n",
              " ('such', 7),\n",
              " ('lake', 7),\n",
              " ('needed', 7)]"
            ]
          },
          "metadata": {},
          "execution_count": 47
        }
      ]
    },
    {
      "cell_type": "code",
      "source": [
        "word_df=pd.DataFrame.from_dict(word_counts, orient='index')"
      ],
      "metadata": {
        "id": "COjd4BIM3vrk"
      },
      "execution_count": 48,
      "outputs": []
    },
    {
      "cell_type": "code",
      "source": [
        "word_df"
      ],
      "metadata": {
        "colab": {
          "base_uri": "https://localhost:8080/",
          "height": 424
        },
        "id": "_lgOJVML31TG",
        "outputId": "15691c00-4bf3-402d-a9f7-8ba7ccc5ab00"
      },
      "execution_count": 49,
      "outputs": [
        {
          "output_type": "execute_result",
          "data": {
            "text/html": [
              "\n",
              "  <div id=\"df-3c856763-4876-4c2e-a572-88cda9854f95\">\n",
              "    <div class=\"colab-df-container\">\n",
              "      <div>\n",
              "<style scoped>\n",
              "    .dataframe tbody tr th:only-of-type {\n",
              "        vertical-align: middle;\n",
              "    }\n",
              "\n",
              "    .dataframe tbody tr th {\n",
              "        vertical-align: top;\n",
              "    }\n",
              "\n",
              "    .dataframe thead th {\n",
              "        text-align: right;\n",
              "    }\n",
              "</style>\n",
              "<table border=\"1\" class=\"dataframe\">\n",
              "  <thead>\n",
              "    <tr style=\"text-align: right;\">\n",
              "      <th></th>\n",
              "      <th>0</th>\n",
              "    </tr>\n",
              "  </thead>\n",
              "  <tbody>\n",
              "    <tr>\n",
              "      <th>champagne</th>\n",
              "      <td>1</td>\n",
              "    </tr>\n",
              "    <tr>\n",
              "      <th>pow</th>\n",
              "      <td>2</td>\n",
              "    </tr>\n",
              "    <tr>\n",
              "      <th>cant</th>\n",
              "      <td>21</td>\n",
              "    </tr>\n",
              "    <tr>\n",
              "      <th>be</th>\n",
              "      <td>122</td>\n",
              "    </tr>\n",
              "    <tr>\n",
              "      <th>beat</th>\n",
              "      <td>9</td>\n",
              "    </tr>\n",
              "    <tr>\n",
              "      <th>...</th>\n",
              "      <td>...</td>\n",
              "    </tr>\n",
              "    <tr>\n",
              "      <th>cannon</th>\n",
              "      <td>1</td>\n",
              "    </tr>\n",
              "    <tr>\n",
              "      <th>showdown</th>\n",
              "      <td>2</td>\n",
              "    </tr>\n",
              "    <tr>\n",
              "      <th>everyweekend</th>\n",
              "      <td>2</td>\n",
              "    </tr>\n",
              "    <tr>\n",
              "      <th>sink</th>\n",
              "      <td>2</td>\n",
              "    </tr>\n",
              "    <tr>\n",
              "      <th>funn</th>\n",
              "      <td>2</td>\n",
              "    </tr>\n",
              "  </tbody>\n",
              "</table>\n",
              "<p>3594 rows × 1 columns</p>\n",
              "</div>\n",
              "      <button class=\"colab-df-convert\" onclick=\"convertToInteractive('df-3c856763-4876-4c2e-a572-88cda9854f95')\"\n",
              "              title=\"Convert this dataframe to an interactive table.\"\n",
              "              style=\"display:none;\">\n",
              "        \n",
              "  <svg xmlns=\"http://www.w3.org/2000/svg\" height=\"24px\"viewBox=\"0 0 24 24\"\n",
              "       width=\"24px\">\n",
              "    <path d=\"M0 0h24v24H0V0z\" fill=\"none\"/>\n",
              "    <path d=\"M18.56 5.44l.94 2.06.94-2.06 2.06-.94-2.06-.94-.94-2.06-.94 2.06-2.06.94zm-11 1L8.5 8.5l.94-2.06 2.06-.94-2.06-.94L8.5 2.5l-.94 2.06-2.06.94zm10 10l.94 2.06.94-2.06 2.06-.94-2.06-.94-.94-2.06-.94 2.06-2.06.94z\"/><path d=\"M17.41 7.96l-1.37-1.37c-.4-.4-.92-.59-1.43-.59-.52 0-1.04.2-1.43.59L10.3 9.45l-7.72 7.72c-.78.78-.78 2.05 0 2.83L4 21.41c.39.39.9.59 1.41.59.51 0 1.02-.2 1.41-.59l7.78-7.78 2.81-2.81c.8-.78.8-2.07 0-2.86zM5.41 20L4 18.59l7.72-7.72 1.47 1.35L5.41 20z\"/>\n",
              "  </svg>\n",
              "      </button>\n",
              "      \n",
              "  <style>\n",
              "    .colab-df-container {\n",
              "      display:flex;\n",
              "      flex-wrap:wrap;\n",
              "      gap: 12px;\n",
              "    }\n",
              "\n",
              "    .colab-df-convert {\n",
              "      background-color: #E8F0FE;\n",
              "      border: none;\n",
              "      border-radius: 50%;\n",
              "      cursor: pointer;\n",
              "      display: none;\n",
              "      fill: #1967D2;\n",
              "      height: 32px;\n",
              "      padding: 0 0 0 0;\n",
              "      width: 32px;\n",
              "    }\n",
              "\n",
              "    .colab-df-convert:hover {\n",
              "      background-color: #E2EBFA;\n",
              "      box-shadow: 0px 1px 2px rgba(60, 64, 67, 0.3), 0px 1px 3px 1px rgba(60, 64, 67, 0.15);\n",
              "      fill: #174EA6;\n",
              "    }\n",
              "\n",
              "    [theme=dark] .colab-df-convert {\n",
              "      background-color: #3B4455;\n",
              "      fill: #D2E3FC;\n",
              "    }\n",
              "\n",
              "    [theme=dark] .colab-df-convert:hover {\n",
              "      background-color: #434B5C;\n",
              "      box-shadow: 0px 1px 3px 1px rgba(0, 0, 0, 0.15);\n",
              "      filter: drop-shadow(0px 1px 2px rgba(0, 0, 0, 0.3));\n",
              "      fill: #FFFFFF;\n",
              "    }\n",
              "  </style>\n",
              "\n",
              "      <script>\n",
              "        const buttonEl =\n",
              "          document.querySelector('#df-3c856763-4876-4c2e-a572-88cda9854f95 button.colab-df-convert');\n",
              "        buttonEl.style.display =\n",
              "          google.colab.kernel.accessAllowed ? 'block' : 'none';\n",
              "\n",
              "        async function convertToInteractive(key) {\n",
              "          const element = document.querySelector('#df-3c856763-4876-4c2e-a572-88cda9854f95');\n",
              "          const dataTable =\n",
              "            await google.colab.kernel.invokeFunction('convertToInteractive',\n",
              "                                                     [key], {});\n",
              "          if (!dataTable) return;\n",
              "\n",
              "          const docLinkHtml = 'Like what you see? Visit the ' +\n",
              "            '<a target=\"_blank\" href=https://colab.research.google.com/notebooks/data_table.ipynb>data table notebook</a>'\n",
              "            + ' to learn more about interactive tables.';\n",
              "          element.innerHTML = '';\n",
              "          dataTable['output_type'] = 'display_data';\n",
              "          await google.colab.output.renderOutput(dataTable, element);\n",
              "          const docLink = document.createElement('div');\n",
              "          docLink.innerHTML = docLinkHtml;\n",
              "          element.appendChild(docLink);\n",
              "        }\n",
              "      </script>\n",
              "    </div>\n",
              "  </div>\n",
              "  "
            ],
            "text/plain": [
              "                0\n",
              "champagne       1\n",
              "pow             2\n",
              "cant           21\n",
              "be            122\n",
              "beat            9\n",
              "...           ...\n",
              "cannon          1\n",
              "showdown        2\n",
              "everyweekend    2\n",
              "sink            2\n",
              "funn            2\n",
              "\n",
              "[3594 rows x 1 columns]"
            ]
          },
          "metadata": {},
          "execution_count": 49
        }
      ]
    },
    {
      "cell_type": "code",
      "source": [
        "word_df.reset_index(inplace=True)\n",
        "print(word_df)"
      ],
      "metadata": {
        "colab": {
          "base_uri": "https://localhost:8080/"
        },
        "id": "BQf6s5he34Zu",
        "outputId": "876417ef-4cdd-4e73-b453-3a57db63946b"
      },
      "execution_count": 50,
      "outputs": [
        {
          "output_type": "stream",
          "name": "stdout",
          "text": [
            "             index    0\n",
            "0        champagne    1\n",
            "1              pow    2\n",
            "2             cant   21\n",
            "3               be  122\n",
            "4             beat    9\n",
            "...            ...  ...\n",
            "3589        cannon    1\n",
            "3590      showdown    2\n",
            "3591  everyweekend    2\n",
            "3592          sink    2\n",
            "3593          funn    2\n",
            "\n",
            "[3594 rows x 2 columns]\n"
          ]
        }
      ]
    },
    {
      "cell_type": "code",
      "source": [
        "df_word=word_df.rename(columns = {'index':'word'})\n",
        "df_word.columns"
      ],
      "metadata": {
        "colab": {
          "base_uri": "https://localhost:8080/"
        },
        "id": "RK7Myf_837jz",
        "outputId": "d3340d4d-b71e-4d94-fe7d-3e8fc4c6b01e"
      },
      "execution_count": 51,
      "outputs": [
        {
          "output_type": "execute_result",
          "data": {
            "text/plain": [
              "Index(['word', 0], dtype='object')"
            ]
          },
          "metadata": {},
          "execution_count": 51
        }
      ]
    },
    {
      "cell_type": "code",
      "source": [
        "from google.colab import drive\n",
        "drive.mount('/content/drive')"
      ],
      "metadata": {
        "colab": {
          "base_uri": "https://localhost:8080/"
        },
        "id": "ZS9bT5sRnx2E",
        "outputId": "8e4169d8-6c09-4bff-e971-3225881943cc"
      },
      "execution_count": 52,
      "outputs": [
        {
          "output_type": "stream",
          "name": "stdout",
          "text": [
            "Mounted at /content/drive\n"
          ]
        }
      ]
    },
    {
      "cell_type": "code",
      "source": [
        "df_word.to_csv(r\"/content/drive/My Drive/Colab Notebooks/Resort_reviews_data_DRive/negative_words.csv\", index = False)"
      ],
      "metadata": {
        "id": "-d0VAuCWqSHb"
      },
      "execution_count": 53,
      "outputs": []
    }
  ]
}