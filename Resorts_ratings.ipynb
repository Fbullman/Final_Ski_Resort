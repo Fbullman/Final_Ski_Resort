{
  "nbformat": 4,
  "nbformat_minor": 0,
  "metadata": {
    "colab": {
      "name": "Resorts_ratings.ipynb",
      "provenance": [],
      "mount_file_id": "1-eWNLR3bmFYAuTVKt--32IZmDqDKTD9t",
      "authorship_tag": "ABX9TyO9hPJMDCrIPzf5ty0qdpWL",
      "include_colab_link": true
    },
    "kernelspec": {
      "name": "python3",
      "display_name": "Python 3"
    },
    "language_info": {
      "name": "python"
    }
  },
  "cells": [
    {
      "cell_type": "markdown",
      "metadata": {
        "id": "view-in-github",
        "colab_type": "text"
      },
      "source": [
        "<a href=\"https://colab.research.google.com/github/jstawarz/Final_Ski_Resort/blob/Fabiana/Resorts_ratings.ipynb\" target=\"_parent\"><img src=\"https://colab.research.google.com/assets/colab-badge.svg\" alt=\"Open In Colab\"/></a>"
      ]
    },
    {
      "cell_type": "code",
      "source": [
        "import pandas as pd\n",
        "import chardet\n",
        "from glob import glob"
      ],
      "metadata": {
        "id": "5puyjwHyiHN2"
      },
      "execution_count": 5,
      "outputs": []
    },
    {
      "cell_type": "code",
      "source": [
        "!pip3 install glob2"
      ],
      "metadata": {
        "colab": {
          "base_uri": "https://localhost:8080/"
        },
        "id": "6miXRuK_dAaQ",
        "outputId": "0721df1f-75f5-4246-ad6a-609377bb4a81"
      },
      "execution_count": 3,
      "outputs": [
        {
          "output_type": "stream",
          "name": "stdout",
          "text": [
            "Requirement already satisfied: glob2 in /usr/local/lib/python3.7/dist-packages (0.7)\n"
          ]
        }
      ]
    },
    {
      "cell_type": "code",
      "source": [
        "from glob import glob"
      ],
      "metadata": {
        "id": "ePTt8oTPfdHY"
      },
      "execution_count": 4,
      "outputs": []
    },
    {
      "cell_type": "code",
      "source": [
        "root = '/content/drive/MyDrive/Colab Notebooks/Resort_reviews_data_DRive'\n",
        "Disco, Bri = glob(f'{root}/Tripadvisor_Discovery_Ski_Area_Rating.csv'), glob(f'{root}/Tripadvisor_Bridger_Rating.csv')\n",
        "print (Disco, Bri)\n"
      ],
      "metadata": {
        "colab": {
          "base_uri": "https://localhost:8080/"
        },
        "id": "-92xeON8fxyk",
        "outputId": "f87bd093-21c9-4743-b91e-c3830fdeea91"
      },
      "execution_count": 6,
      "outputs": [
        {
          "output_type": "stream",
          "name": "stdout",
          "text": [
            "['/content/drive/MyDrive/Colab Notebooks/Resort_reviews_data_DRive/Tripadvisor_Discovery_Ski_Area_Rating.csv'] ['/content/drive/MyDrive/Colab Notebooks/Resort_reviews_data_DRive/Tripadvisor_Bridger_Rating.csv']\n"
          ]
        }
      ]
    },
    {
      "cell_type": "code",
      "source": [
        ""
      ],
      "metadata": {
        "id": "nE05xC1CkG7a"
      },
      "execution_count": null,
      "outputs": []
    },
    {
      "cell_type": "code",
      "source": [
        "root = '/content/drive/MyDrive/Colab Notebooks/Resort_reviews_data_DRive'\n",
        "\n"
      ],
      "metadata": {
        "colab": {
          "base_uri": "https://localhost:8080/"
        },
        "outputId": "f87bd093-21c9-4743-b91e-c3830fdeea91",
        "id": "rvb3mCIQkNQ8"
      },
      "execution_count": null,
      "outputs": [
        {
          "output_type": "stream",
          "name": "stdout",
          "text": [
            "['/content/drive/MyDrive/Colab Notebooks/Resort_reviews_data_DRive/Tripadvisor_Discovery_Ski_Area_Rating.csv'] ['/content/drive/MyDrive/Colab Notebooks/Resort_reviews_data_DRive/Tripadvisor_Bridger_Rating.csv']\n"
          ]
        }
      ]
    },
    {
      "cell_type": "code",
      "source": [
        "Brie='/content/drive/MyDrive/Colab Notebooks/Resort_reviews_data_DRive/Tripadvisor_Bridger_Rating.csv'\n",
        "df = pd.read_csv(Brie, index_col=None, header=0)\n",
        "Brie=df\n",
        "type(Brie)"
      ],
      "metadata": {
        "colab": {
          "base_uri": "https://localhost:8080/"
        },
        "id": "LHVB46OtoKWA",
        "outputId": "861df3d9-b053-4ed3-e08b-641fab5c54d3"
      },
      "execution_count": 22,
      "outputs": [
        {
          "output_type": "execute_result",
          "data": {
            "text/plain": [
              "pandas.core.frame.DataFrame"
            ]
          },
          "metadata": {},
          "execution_count": 22
        }
      ]
    },
    {
      "cell_type": "code",
      "source": [
        "Disco='/content/drive/MyDrive/Colab Notebooks/Resort_reviews_data_DRive/Tripadvisor_Discovery_Ski_Area_Rating.csv'\n",
        "df = pd.read_csv(Disco, index_col=None, header=0)\n",
        "Disco=df"
      ],
      "metadata": {
        "id": "dOvb_0-WoZ0n"
      },
      "execution_count": 23,
      "outputs": []
    },
    {
      "cell_type": "code",
      "source": [
        "Redl='/content/drive/MyDrive/Colab Notebooks/Resort_reviews_data_DRive/Tripadvisor_Red_Lodge_Mountain_Rating.csv' \n",
        "df = pd.read_csv(Redl, index_col=None, header=0)\n",
        "Redl=df"
      ],
      "metadata": {
        "id": "0wBi4HZxojGc"
      },
      "execution_count": 25,
      "outputs": []
    },
    {
      "cell_type": "code",
      "source": [
        "Show='/content/drive/MyDrive/Colab Notebooks/Resort_reviews_data_DRive/Tripadvisor_Showdown_Ski_Area_Rating.csv'\n",
        "Show = pd.read_csv(Show, index_col=None, header=0)\n"
      ],
      "metadata": {
        "id": "WQEdMZolol0p"
      },
      "execution_count": 24,
      "outputs": []
    },
    {
      "cell_type": "code",
      "source": [
        "Snow='/content/drive/MyDrive/Colab Notebooks/Resort_reviews_data_DRive/Tripadvisor_Snowbowl_Ski_Rating.csv'\n",
        "Snow = pd.read_csv(Snow, index_col=None, header=0)\n"
      ],
      "metadata": {
        "id": "Dw1IbyhjowJN"
      },
      "execution_count": 19,
      "outputs": []
    },
    {
      "cell_type": "code",
      "source": [
        "White='/content/drive/MyDrive/Colab Notebooks/Resort_reviews_data_DRive/Tripadvisor_Whitefish_Ski_Resort_Rating.csv'\n",
        "White = pd.read_csv(White, index_col=None, header=0)\n"
      ],
      "metadata": {
        "id": "wmJL4teQozHO"
      },
      "execution_count": 20,
      "outputs": []
    },
    {
      "cell_type": "code",
      "source": [
        "all_ski_df=pd.concat([Brie, Disco, Redl, Show, Snow, White])\n",
        "all_ski_df.shape"
      ],
      "metadata": {
        "colab": {
          "base_uri": "https://localhost:8080/"
        },
        "id": "70YCjFBIua00",
        "outputId": "b9e36186-486c-4ff5-b3a1-3d9e9b3b27f9"
      },
      "execution_count": 27,
      "outputs": [
        {
          "output_type": "execute_result",
          "data": {
            "text/plain": [
              "(896, 256)"
            ]
          },
          "metadata": {},
          "execution_count": 27
        }
      ]
    },
    {
      "cell_type": "code",
      "source": [
        "all_ski_df[['Ski Area', 'Review Date', 'Review Star Rating (out of 5)']]"
      ],
      "metadata": {
        "colab": {
          "base_uri": "https://localhost:8080/",
          "height": 424
        },
        "id": "Mn0E829Ewspg",
        "outputId": "17bd08d9-27bf-4fd7-bf44-579347a0742e"
      },
      "execution_count": 32,
      "outputs": [
        {
          "output_type": "execute_result",
          "data": {
            "text/html": [
              "\n",
              "  <div id=\"df-20ebc561-163e-4e82-be43-e4009ee9e38a\">\n",
              "    <div class=\"colab-df-container\">\n",
              "      <div>\n",
              "<style scoped>\n",
              "    .dataframe tbody tr th:only-of-type {\n",
              "        vertical-align: middle;\n",
              "    }\n",
              "\n",
              "    .dataframe tbody tr th {\n",
              "        vertical-align: top;\n",
              "    }\n",
              "\n",
              "    .dataframe thead th {\n",
              "        text-align: right;\n",
              "    }\n",
              "</style>\n",
              "<table border=\"1\" class=\"dataframe\">\n",
              "  <thead>\n",
              "    <tr style=\"text-align: right;\">\n",
              "      <th></th>\n",
              "      <th>Ski Area</th>\n",
              "      <th>Review Date</th>\n",
              "      <th>Review Star Rating (out of 5)</th>\n",
              "    </tr>\n",
              "  </thead>\n",
              "  <tbody>\n",
              "    <tr>\n",
              "      <th>0</th>\n",
              "      <td>Bridger</td>\n",
              "      <td>Jan 2013</td>\n",
              "      <td>5</td>\n",
              "    </tr>\n",
              "    <tr>\n",
              "      <th>1</th>\n",
              "      <td>Bridger</td>\n",
              "      <td>Mar 2012</td>\n",
              "      <td>5</td>\n",
              "    </tr>\n",
              "    <tr>\n",
              "      <th>2</th>\n",
              "      <td>Bridger</td>\n",
              "      <td>Jan 2013</td>\n",
              "      <td>5</td>\n",
              "    </tr>\n",
              "    <tr>\n",
              "      <th>3</th>\n",
              "      <td>Bridger</td>\n",
              "      <td>Feb 2012</td>\n",
              "      <td>4</td>\n",
              "    </tr>\n",
              "    <tr>\n",
              "      <th>4</th>\n",
              "      <td>Bridger</td>\n",
              "      <td>Jan 2013</td>\n",
              "      <td>2</td>\n",
              "    </tr>\n",
              "    <tr>\n",
              "      <th>...</th>\n",
              "      <td>...</td>\n",
              "      <td>...</td>\n",
              "      <td>...</td>\n",
              "    </tr>\n",
              "    <tr>\n",
              "      <th>230</th>\n",
              "      <td>Whitefish Mountain Resort</td>\n",
              "      <td>January 2020</td>\n",
              "      <td>5</td>\n",
              "    </tr>\n",
              "    <tr>\n",
              "      <th>231</th>\n",
              "      <td>Whitefish Mountain Resort</td>\n",
              "      <td>February 2020</td>\n",
              "      <td>5</td>\n",
              "    </tr>\n",
              "    <tr>\n",
              "      <th>232</th>\n",
              "      <td>Whitefish Mountain Resort</td>\n",
              "      <td>February 2020</td>\n",
              "      <td>5</td>\n",
              "    </tr>\n",
              "    <tr>\n",
              "      <th>233</th>\n",
              "      <td>Whitefish Mountain Resort</td>\n",
              "      <td>February 2020</td>\n",
              "      <td>5</td>\n",
              "    </tr>\n",
              "    <tr>\n",
              "      <th>234</th>\n",
              "      <td>Whitefish Mountain Resort</td>\n",
              "      <td>February 2020</td>\n",
              "      <td>5</td>\n",
              "    </tr>\n",
              "  </tbody>\n",
              "</table>\n",
              "<p>896 rows × 3 columns</p>\n",
              "</div>\n",
              "      <button class=\"colab-df-convert\" onclick=\"convertToInteractive('df-20ebc561-163e-4e82-be43-e4009ee9e38a')\"\n",
              "              title=\"Convert this dataframe to an interactive table.\"\n",
              "              style=\"display:none;\">\n",
              "        \n",
              "  <svg xmlns=\"http://www.w3.org/2000/svg\" height=\"24px\"viewBox=\"0 0 24 24\"\n",
              "       width=\"24px\">\n",
              "    <path d=\"M0 0h24v24H0V0z\" fill=\"none\"/>\n",
              "    <path d=\"M18.56 5.44l.94 2.06.94-2.06 2.06-.94-2.06-.94-.94-2.06-.94 2.06-2.06.94zm-11 1L8.5 8.5l.94-2.06 2.06-.94-2.06-.94L8.5 2.5l-.94 2.06-2.06.94zm10 10l.94 2.06.94-2.06 2.06-.94-2.06-.94-.94-2.06-.94 2.06-2.06.94z\"/><path d=\"M17.41 7.96l-1.37-1.37c-.4-.4-.92-.59-1.43-.59-.52 0-1.04.2-1.43.59L10.3 9.45l-7.72 7.72c-.78.78-.78 2.05 0 2.83L4 21.41c.39.39.9.59 1.41.59.51 0 1.02-.2 1.41-.59l7.78-7.78 2.81-2.81c.8-.78.8-2.07 0-2.86zM5.41 20L4 18.59l7.72-7.72 1.47 1.35L5.41 20z\"/>\n",
              "  </svg>\n",
              "      </button>\n",
              "      \n",
              "  <style>\n",
              "    .colab-df-container {\n",
              "      display:flex;\n",
              "      flex-wrap:wrap;\n",
              "      gap: 12px;\n",
              "    }\n",
              "\n",
              "    .colab-df-convert {\n",
              "      background-color: #E8F0FE;\n",
              "      border: none;\n",
              "      border-radius: 50%;\n",
              "      cursor: pointer;\n",
              "      display: none;\n",
              "      fill: #1967D2;\n",
              "      height: 32px;\n",
              "      padding: 0 0 0 0;\n",
              "      width: 32px;\n",
              "    }\n",
              "\n",
              "    .colab-df-convert:hover {\n",
              "      background-color: #E2EBFA;\n",
              "      box-shadow: 0px 1px 2px rgba(60, 64, 67, 0.3), 0px 1px 3px 1px rgba(60, 64, 67, 0.15);\n",
              "      fill: #174EA6;\n",
              "    }\n",
              "\n",
              "    [theme=dark] .colab-df-convert {\n",
              "      background-color: #3B4455;\n",
              "      fill: #D2E3FC;\n",
              "    }\n",
              "\n",
              "    [theme=dark] .colab-df-convert:hover {\n",
              "      background-color: #434B5C;\n",
              "      box-shadow: 0px 1px 3px 1px rgba(0, 0, 0, 0.15);\n",
              "      filter: drop-shadow(0px 1px 2px rgba(0, 0, 0, 0.3));\n",
              "      fill: #FFFFFF;\n",
              "    }\n",
              "  </style>\n",
              "\n",
              "      <script>\n",
              "        const buttonEl =\n",
              "          document.querySelector('#df-20ebc561-163e-4e82-be43-e4009ee9e38a button.colab-df-convert');\n",
              "        buttonEl.style.display =\n",
              "          google.colab.kernel.accessAllowed ? 'block' : 'none';\n",
              "\n",
              "        async function convertToInteractive(key) {\n",
              "          const element = document.querySelector('#df-20ebc561-163e-4e82-be43-e4009ee9e38a');\n",
              "          const dataTable =\n",
              "            await google.colab.kernel.invokeFunction('convertToInteractive',\n",
              "                                                     [key], {});\n",
              "          if (!dataTable) return;\n",
              "\n",
              "          const docLinkHtml = 'Like what you see? Visit the ' +\n",
              "            '<a target=\"_blank\" href=https://colab.research.google.com/notebooks/data_table.ipynb>data table notebook</a>'\n",
              "            + ' to learn more about interactive tables.';\n",
              "          element.innerHTML = '';\n",
              "          dataTable['output_type'] = 'display_data';\n",
              "          await google.colab.output.renderOutput(dataTable, element);\n",
              "          const docLink = document.createElement('div');\n",
              "          docLink.innerHTML = docLinkHtml;\n",
              "          element.appendChild(docLink);\n",
              "        }\n",
              "      </script>\n",
              "    </div>\n",
              "  </div>\n",
              "  "
            ],
            "text/plain": [
              "                      Ski Area    Review Date  Review Star Rating (out of 5)\n",
              "0                      Bridger       Jan 2013                              5\n",
              "1                      Bridger       Mar 2012                              5\n",
              "2                      Bridger       Jan 2013                              5\n",
              "3                      Bridger       Feb 2012                              4\n",
              "4                      Bridger       Jan 2013                              2\n",
              "..                         ...            ...                            ...\n",
              "230  Whitefish Mountain Resort   January 2020                              5\n",
              "231  Whitefish Mountain Resort  February 2020                              5\n",
              "232  Whitefish Mountain Resort  February 2020                              5\n",
              "233  Whitefish Mountain Resort  February 2020                              5\n",
              "234  Whitefish Mountain Resort  February 2020                              5\n",
              "\n",
              "[896 rows x 3 columns]"
            ]
          },
          "metadata": {},
          "execution_count": 32
        }
      ]
    },
    {
      "cell_type": "markdown",
      "source": [
        "# New Section"
      ],
      "metadata": {
        "id": "qP72tDK7p2dX"
      }
    },
    {
      "cell_type": "markdown",
      "source": [
        ""
      ],
      "metadata": {
        "id": "H6WyEDtLgE41"
      }
    }
  ]
}